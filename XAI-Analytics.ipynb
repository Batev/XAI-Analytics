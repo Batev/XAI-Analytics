{
 "cells": [
  {
   "cell_type": "markdown",
   "metadata": {},
   "source": [
    "# XAI Analytics Notebook"
   ]
  },
  {
   "cell_type": "code",
   "execution_count": null,
   "metadata": {},
   "outputs": [],
   "source": [
    "import os\n",
    "import xai\n",
    "import logging as log \n",
    "import ipywidgets as widgets\n",
    "import util.commons\n",
    "import eli5\n",
    "import random\n",
    "\n",
    "from xai import imbalance_plot\n",
    "from datetime import date\n",
    "from util.commons import *\n",
    "from util.ui import *\n",
    "from util.model import *\n",
    "from util.split import *\n",
    "from util.dataset import *\n",
    "from ipywidgets import interact, interact_manual, interactive, interactive_output\n",
    "from ipywidgets import Button, GridBox, Layout, ButtonStyle, Label\n",
    "from IPython.display import clear_output"
   ]
  },
  {
   "cell_type": "markdown",
   "metadata": {},
   "source": [
    "Select the dataset that you would like to invastigate later with the help of the available interpretability tools."
   ]
  },
  {
   "cell_type": "code",
   "execution_count": null,
   "metadata": {},
   "outputs": [],
   "source": [
    "dataset_select_label = Label(layout=Layout(width='auto', height='auto'), value='Select a dataset (you can specify custom one by selecting other):')\n",
    "dataset_select_dropdown = widgets.Dropdown(options=[m.name for m in Datasets], value=None, layout=Layout(width='200px', height='auto'))\n",
    "name_url_text_label = Label(value='Provide dataset name and URL:')\n",
    "name_text = widgets.Text(description='Name: ', placeholder='e.g. Car Evaluation Data Set', disabled=True)\n",
    "url_text = widgets.Text(description='URL: ', placeholder='e.g. https://archive.ics.uci.edu/ml/machine-learning-databases/car/car.data', disabled=True)\n",
    "dataset_select_button = widgets.Button(description='Download dataset', layout=Layout(width='300px', height='auto'), style=ButtonStyle(button_color='green'), tooltip='Click me', icon='download', disabled=True)\n",
    "dataset_select_output = widgets.Output()\n",
    "\n",
    "display(dataset_select_label,\n",
    "        dataset_select_dropdown,\n",
    "        name_url_text_label,\n",
    "        name_text,\n",
    "        url_text,\n",
    "        dataset_select_button,\n",
    "        dataset_select_output)\n",
    "\n",
    "def on_value_change_dataset_select_dropdown(change):\n",
    "    dataset_select_output.clear_output()\n",
    "    global dataset\n",
    "    new_value = str(change['new'])\n",
    "    if new_value == 'other':\n",
    "        name_text.disabled=False\n",
    "        url_text.disabled=False\n",
    "        dataset_select_button.disabled=False\n",
    "    else:\n",
    "        name_text.disabled=True\n",
    "        url_text.disabled=True\n",
    "        dataset_select_button.disabled=True\n",
    "        dataset_id = Datasets[new_value]\n",
    "        dataset, msg = get_dataset(new_value)\n",
    "        with dataset_select_output:\n",
    "            display(msg)\n",
    "            \n",
    "def on_click_dataset_select_button(self):\n",
    "    dataset_select_output.clear_output()\n",
    "    global dataset\n",
    "    name = str(name_text.value)\n",
    "    url = str(url_text.value)\n",
    "    dataset, msg = get_dataset(name, url)\n",
    "    with dataset_select_output:\n",
    "        display(msg)\n",
    "\n",
    "dataset_select_dropdown.observe(on_value_change_dataset_select_dropdown, names='value')\n",
    "dataset_select_button.on_click(on_click_dataset_select_button)"
   ]
  },
  {
   "cell_type": "code",
   "execution_count": null,
   "metadata": {},
   "outputs": [],
   "source": [
    "from pandas.api.types import is_numeric_dtype, is_string_dtype\n",
    "\n",
    "strip_column_select_label = Label(layout=Layout(width='auto', height='auto'), value='Strip a column from the dataset:')\n",
    "strip_column_select_dropdown = widgets.Dropdown(options=list(dataset.df.columns), value=None, layout=Layout(width='220px', height='auto'))\n",
    "strip_button = widgets.Button(disabled=False, style=ButtonStyle(button_color='yellow'), tooltip='Strips everything except the selected value.', icon='bolt', layout=Layout(width='max-content', height='auto'))\n",
    "strip_column_output = widgets.Output()\n",
    "strip_column_output_inner = widgets.Output()\n",
    "\n",
    "# back up initial dataset\n",
    "df_backup = dataset.df\n",
    "\n",
    "#defaults for the cell\n",
    "eq_value = '='\n",
    "df_stripped = None\n",
    "\n",
    "def on_value_change_strip_column_select_dropdown(change):\n",
    "    strip_column_output.clear_output()\n",
    "    strip_column_output_inner.clear_output()\n",
    "    strip_button.description = ''\n",
    "    new_value = str(change['new'])\n",
    "    if is_numeric_dtype(dataset.df[new_value]):\n",
    "        eq_radio = init_strip_eq_radio(on_value_change_eq_radio)\n",
    "        min_val, max_val, step=calculate_slider_properties(dataset.df[new_value].unique())\n",
    "        value_slider = init_strip_value_slider(on_value_change_value_slider, min_val, max_val, step)\n",
    "        with strip_column_output:\n",
    "            display(eq_radio, value_slider, strip_button, strip_column_output_inner)\n",
    "    elif is_string_dtype(dataset.df[new_value]):\n",
    "        value_select_dropdown = init_strip_value_select_dropdown(on_value_change_value_select_dropdown, list(dataset.df[new_value].unique()))\n",
    "        with strip_column_output:\n",
    "            display(value_select_dropdown, strip_button, strip_column_output_inner)\n",
    "            \n",
    "def on_value_change_value_select_dropdown(change):\n",
    "    strip_column_output_inner.clear_output()\n",
    "    global df_stripped\n",
    "    new_value = str(change['new'])\n",
    "    with strip_column_output_inner:\n",
    "        strip_button.description='{} \\'{}\\''.format(strip_column_select_dropdown.value, new_value)\n",
    "        df_stripped = get_stripped_df(dataset.df, strip_column_select_dropdown.value, new_value)\n",
    "        display(df_stripped)\n",
    "\n",
    "def on_value_change_value_slider(change):\n",
    "    strip_column_output_inner.clear_output()\n",
    "    global df_stripped\n",
    "    new_value = float(str(change['new']))    \n",
    "    with strip_column_output_inner:\n",
    "        strip_button.description='{} {} \\'{}\\''.format(strip_column_select_dropdown.value, eq_value, new_value)\n",
    "        df_stripped = get_stripped_df(dataset.df, strip_column_select_dropdown.value, new_value, eq_value)\n",
    "        display(df_stripped)\n",
    "\n",
    "def on_value_change_eq_radio(change):\n",
    "    global eq_value\n",
    "    eq_value = str(change['new'])\n",
    "            \n",
    "def on_click_strip_button(self):\n",
    "    strip_column_output.clear_output()\n",
    "    global stack_label, df_stripped\n",
    "    dataset.df = df_stripped\n",
    "    stack_label.value = stack_label.value + strip_button.description + ', ' \n",
    "    with strip_column_output:\n",
    "        display('{} selected successfully.'.format(strip_button.description), dataset.df)\n",
    "    \n",
    "def on_click_reset_button(self):\n",
    "    strip_column_output.clear_output()\n",
    "    dataset.df = df_backup\n",
    "    global stack_label\n",
    "    stack_label.value = 'Stripped columns for the dataset: '\n",
    "    with strip_column_output:\n",
    "        display('Dataset restored to its initial state.', dataset.df)\n",
    "\n",
    "hbox = generate_reset_strip_hbox(on_click_reset_button)\n",
    "stack_label = get_reset_strip_hbox_label(hbox)\n",
    "    \n",
    "strip_column_select_dropdown.observe(on_value_change_strip_column_select_dropdown, names='value')\n",
    "strip_button.on_click(on_click_strip_button)\n",
    "\n",
    "display(hbox, strip_column_select_label, strip_column_select_dropdown, strip_column_output)"
   ]
  },
  {
   "cell_type": "markdown",
   "metadata": {},
   "source": [
    "Analyze dataset with the XAI toolset."
   ]
  },
  {
   "cell_type": "code",
   "execution_count": null,
   "metadata": {
    "scrolled": true
   },
   "outputs": [],
   "source": [
    "show_imbalance_selectmultiple = widgets.SelectMultiple(options=list(dataset.df.columns), rows=len(list(dataset.df.columns)) if len(list(dataset.df.columns)) <= 20 else 20, layout=Layout(width='auto', height='auto'))\n",
    "show_imbalance_button = widgets.Button(description='Show imbalances', layout=Layout(width='auto', height='auto'), button_style='info', tooltip='Click me', icon='cubes')\n",
    "correlations_matrix_button = Button(description='Correlations as a hierarchical dendogram', tooltip='Click me', icon='sitemap', layout=Layout(width='auto', height='auto'), disabled=False, style=ButtonStyle(button_color='darkseagreen'))\n",
    "correlations_dendogram_button = Button(description='Correlations as a matrix', tooltip='Click me', icon='th-large', layout=Layout(width='auto', height='auto'), disabled=False, style=ButtonStyle(button_color='orange'))\n",
    "show_imbalance_output = widgets.Output()\n",
    "\n",
    "def on_click_show_imbalance_button(self):\n",
    "    show_imbalance_output.clear_output()\n",
    "    features_to_analyze = list(show_imbalance_selectmultiple.value)\n",
    "    with show_imbalance_output:\n",
    "        xai.imbalance_plot(dataset.df, *features_to_analyze)\n",
    "        \n",
    "def on_click_correlations_matrix_button(self):\n",
    "    show_imbalance_output.clear_output()\n",
    "    with show_imbalance_output:\n",
    "        display(xai.correlations(dataset.df, include_categorical=True, plot_type=\"matrix\"))\n",
    "        \n",
    "def on_click_correlations_dendogram_button(self):\n",
    "    show_imbalance_output.clear_output()\n",
    "    with show_imbalance_output:\n",
    "        display(xai.correlations(dataset.df, include_categorical=True))\n",
    "\n",
    "show_imbalance_button.on_click(on_click_show_imbalance_button)\n",
    "correlations_matrix_button.on_click(on_click_correlations_matrix_button)\n",
    "correlations_dendogram_button.on_click(on_click_correlations_dendogram_button)\n",
    "\n",
    "grid_box = generate_analyze_grid(show_imbalance_selectmultiple,\n",
    "                                 show_imbalance_button,\n",
    "                                 correlations_dendogram_button,\n",
    "                                 correlations_matrix_button)\n",
    "\n",
    "display(grid_box, show_imbalance_output)"
   ]
  },
  {
   "cell_type": "markdown",
   "metadata": {},
   "source": [
    "Select a target and the number of models to be trained, analyzed and compared."
   ]
  },
  {
   "cell_type": "code",
   "execution_count": null,
   "metadata": {},
   "outputs": [],
   "source": [
    "target_dropdown = widgets.Dropdown(options=list(dataset.df.columns), value=None, disabled=False)\n",
    "target_select_button = widgets.Button(description='Select target', disabled=False, button_style='success', tooltip='Click me', icon='mouse-pointer')\n",
    "target_output = widgets.Output()\n",
    "\n",
    "display(target_dropdown, target_select_button, target_output)\n",
    "\n",
    "def on_value_change_target_dropdown(change):\n",
    "    target_output.clear_output()\n",
    "    df_target, msg = show_target(dataset.df, change['new'])\n",
    "    with target_output:\n",
    "        display(df_target)\n",
    "\n",
    "def on_click_target_select_button(slef):\n",
    "    target_output.clear_output()\n",
    "    global df_X, df_y\n",
    "    df_X, df_y, msg = split_feature_target(dataset.df, target_dropdown.value)\n",
    "    with target_output:\n",
    "        display(msg)\n",
    "\n",
    "target_dropdown.observe(on_value_change_target_dropdown, names='value')\n",
    "target_select_button.on_click(on_click_target_select_button)"
   ]
  },
  {
   "cell_type": "markdown",
   "metadata": {},
   "source": [
    "Train a model by selecting its properties. _Hover the mouse over the description of a property in order to get more information about it._"
   ]
  },
  {
   "cell_type": "code",
   "execution_count": null,
   "metadata": {
    "scrolled": true
   },
   "outputs": [],
   "source": [
    "models_label = Label(layout=Layout(width='auto', height='auto'), value='Choose the number of models to be used: ')\n",
    "models_slider = widgets.IntSlider(value=1, min=1, max=8, step=1, disabled=False, continuous_update=False, orientation='horizontal', readout=True, readout_format='d')\n",
    "models_output = widgets.Output()\n",
    "\n",
    "\n",
    "def draw_grid():\n",
    "    display(generate_model_grid(\n",
    "        df_X,\n",
    "        number_of_models,\n",
    "        models,\n",
    "        on_click_feature_exclude_button=on_click_feature_exclude_button,\n",
    "        on_value_change_split_type_dropdown=on_value_change_split_type_dropdown,\n",
    "        on_click_model_train_button=on_click_model_train_button))\n",
    "\n",
    "def on_value_change_models_slider(change):\n",
    "    models_output.clear_output()\n",
    "    global number_of_models, models\n",
    "    number_of_models = change['new']\n",
    "    models, _ = fill_empty_models(df_X, df_y, number_of_models)\n",
    "    with models_output:\n",
    "        draw_grid()\n",
    "\n",
    "models_slider.observe(on_value_change_models_slider, names='value')\n",
    "display(models_label, models_slider, models_output)\n",
    "\n",
    "def on_value_change_split_type_dropdown(change):\n",
    "    model = get_model_by_split_type_dd(models, change['owner'])\n",
    "    _ = change_cross_columns_status(model, change['new'])\n",
    "\n",
    "def on_click_feature_exclude_button(self):\n",
    "    models_output.clear_output()\n",
    "    model = get_model_by_remove_features_button(models, self)\n",
    "    msg = remove_model_features(model)\n",
    "    with models_output:\n",
    "        draw_grid()\n",
    "\n",
    "def on_click_model_train_button(self):\n",
    "    model = get_model_by_train_model_button(models, self)\n",
    "    msg = fill_model(model)\n",
    "    with models_output:\n",
    "        display(msg)\n",
    "\n",
    "# initially show only one model\n",
    "with models_output:\n",
    "    number_of_models = 1\n",
    "    models = []\n",
    "    models.append(Model(0, \"Model \" + \"0\", None, df_X, df_y, get_model_type(df_y)))\n",
    "    draw_grid()"
   ]
  },
  {
   "cell_type": "markdown",
   "metadata": {},
   "source": [
    "Interpret model globally with eli5."
   ]
  },
  {
   "cell_type": "code",
   "execution_count": null,
   "metadata": {},
   "outputs": [],
   "source": [
    "for model in models:\n",
    "    num_features, cat_features = divide_features(model.X)\n",
    "    log.info(\"Global explanation of {}.\".format(model.name))\n",
    "    display(interpret_model(model.model, num_features, cat_features))"
   ]
  },
  {
   "cell_type": "markdown",
   "metadata": {},
   "source": [
    "Interpret a single example locally with LIME."
   ]
  },
  {
   "cell_type": "code",
   "execution_count": null,
   "metadata": {},
   "outputs": [],
   "source": [
    "for i in range(3):\n",
    "    rand = random.randrange(100)\n",
    "    for model in models:\n",
    "        log.info(\"Local explanation for {}.\".format(model.name))\n",
    "        explanation = explain_single_instance(model.model, model.X, model.y, rand)\n",
    "        explanation.show_in_notebook(show_table=True, show_all=True)"
   ]
  },
  {
   "cell_type": "code",
   "execution_count": null,
   "metadata": {
    "scrolled": true
   },
   "outputs": [],
   "source": [
    "\n",
    "prediction = []\n",
    "modelw = None\n",
    "for model in models:\n",
    "    modelw = model\n",
    "    prediction = model.model.predict(model.X_test)\n",
    "    \n",
    "df_new_test = modelw.X_test\n",
    "df_new_test['new_cases'] = modelw.y_test\n",
    "df_new_test['predicted_new_cases'] = prediction\n",
    "df_new_test.sort_index(inplace=True)\n",
    "\n",
    "display(df_new_test)"
   ]
  },
  {
   "cell_type": "markdown",
   "metadata": {},
   "source": [
    "..."
   ]
  }
 ],
 "metadata": {
  "kernelspec": {
   "display_name": "Python 3",
   "language": "python",
   "name": "python3"
  },
  "language_info": {
   "codemirror_mode": {
    "name": "ipython",
    "version": 3
   },
   "file_extension": ".py",
   "mimetype": "text/x-python",
   "name": "python",
   "nbconvert_exporter": "python",
   "pygments_lexer": "ipython3",
   "version": "3.7.4"
  }
 },
 "nbformat": 4,
 "nbformat_minor": 2
}
