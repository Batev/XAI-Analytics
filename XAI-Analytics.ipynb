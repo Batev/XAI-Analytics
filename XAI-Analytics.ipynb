{
 "cells": [
  {
   "cell_type": "markdown",
   "metadata": {},
   "source": [
    "# XAI Analytics Notebook"
   ]
  },
  {
   "cell_type": "code",
   "execution_count": 1,
   "metadata": {},
   "outputs": [
    {
     "name": "stderr",
     "output_type": "stream",
     "text": [
      "/home/g3no/github/XAI-Analytics/venv/lib/python3.8/site-packages/sklearn/utils/deprecation.py:144: FutureWarning: The sklearn.metrics.scorer module is  deprecated in version 0.22 and will be removed in version 0.24. The corresponding classes / functions should instead be imported from sklearn.metrics. Anything that cannot be imported from sklearn.metrics is now part of the private API.\n",
      "  warnings.warn(message, FutureWarning)\n",
      "/home/g3no/github/XAI-Analytics/venv/lib/python3.8/site-packages/sklearn/utils/deprecation.py:144: FutureWarning: The sklearn.feature_selection.base module is  deprecated in version 0.22 and will be removed in version 0.24. The corresponding classes / functions should instead be imported from sklearn.feature_selection. Anything that cannot be imported from sklearn.feature_selection is now part of the private API.\n",
      "  warnings.warn(message, FutureWarning)\n"
     ]
    }
   ],
   "source": [
    "import os\n",
    "import xai\n",
    "import logging as log \n",
    "import ipywidgets as widgets\n",
    "import util.commons\n",
    "import eli5\n",
    "import random\n",
    "import warnings\n",
    "import matplotlib.pyplot as plt\n",
    "\n",
    "from xai import imbalance_plot\n",
    "from datetime import date\n",
    "from util.commons import *\n",
    "from util.ui import *\n",
    "from util.model import *\n",
    "from util.split import *\n",
    "from util.dataset import *\n",
    "from ipywidgets import interact, interact_manual, interactive, interactive_output\n",
    "from ipywidgets import Button, GridBox, Layout, ButtonStyle, Label\n",
    "from IPython.display import clear_output\n",
    "\n",
    "%matplotlib inline\n",
    "# plt.style.use('ggplot')\n",
    "warnings.filterwarnings('ignore')"
   ]
  },
  {
   "cell_type": "markdown",
   "metadata": {},
   "source": [
    "Select the dataset that you would like to invastigate later with the help of the available interpretability tools."
   ]
  },
  {
   "cell_type": "code",
   "execution_count": 2,
   "metadata": {},
   "outputs": [
    {
     "data": {
      "application/vnd.jupyter.widget-view+json": {
       "model_id": "ac63d68ffe29441bbd5a7da3ae8bb73c",
       "version_major": 2,
       "version_minor": 0
      },
      "text/plain": [
       "Label(value='Select a dataset (you can specify custom one by selecting other):', layout=Layout(height='auto', …"
      ]
     },
     "metadata": {},
     "output_type": "display_data"
    },
    {
     "data": {
      "application/vnd.jupyter.widget-view+json": {
       "model_id": "30226b0104214be199fcb3b7539addf3",
       "version_major": 2,
       "version_minor": 0
      },
      "text/plain": [
       "Dropdown(layout=Layout(height='auto', width='200px'), options=('anes96', 'cancer', 'ccard', 'china_smoking', '…"
      ]
     },
     "metadata": {},
     "output_type": "display_data"
    },
    {
     "data": {
      "application/vnd.jupyter.widget-view+json": {
       "model_id": "eaec858e85f24b10872f8a7a50bb60c3",
       "version_major": 2,
       "version_minor": 0
      },
      "text/plain": [
       "Label(value='Provide dataset name and URL:')"
      ]
     },
     "metadata": {},
     "output_type": "display_data"
    },
    {
     "data": {
      "application/vnd.jupyter.widget-view+json": {
       "model_id": "08a1dd9035a04372bf37f49a7c66dcdc",
       "version_major": 2,
       "version_minor": 0
      },
      "text/plain": [
       "Text(value='', description='Name: ', disabled=True, placeholder='e.g. Car Evaluation Data Set')"
      ]
     },
     "metadata": {},
     "output_type": "display_data"
    },
    {
     "data": {
      "application/vnd.jupyter.widget-view+json": {
       "model_id": "1c2ede71f5e84038b67c12e6f5a9096a",
       "version_major": 2,
       "version_minor": 0
      },
      "text/plain": [
       "Text(value='', description='URL: ', disabled=True, placeholder='e.g. https://archive.ics.uci.edu/ml/machine-le…"
      ]
     },
     "metadata": {},
     "output_type": "display_data"
    },
    {
     "data": {
      "application/vnd.jupyter.widget-view+json": {
       "model_id": "76df35506d314d979e53e925a556da70",
       "version_major": 2,
       "version_minor": 0
      },
      "text/plain": [
       "Button(description='Download dataset', disabled=True, icon='download', layout=Layout(height='auto', width='300…"
      ]
     },
     "metadata": {},
     "output_type": "display_data"
    },
    {
     "data": {
      "application/vnd.jupyter.widget-view+json": {
       "model_id": "6b019f635e6746979b15142b634c90f3",
       "version_major": 2,
       "version_minor": 0
      },
      "text/plain": [
       "Output()"
      ]
     },
     "metadata": {},
     "output_type": "display_data"
    },
    {
     "name": "stderr",
     "output_type": "stream",
     "text": [
      "31-May-20 11:25:57 - Dataset 'census (Adult census dataset)' loaded successfully. For further information about this dataset please visit: https://ethicalml.github.io/xai/index.html?highlight=load_census#xai.data.load_census\n",
      "31-May-20 11:25:57 - \n",
      "   age          workclass   education  education-num       marital-status  \\\n",
      "0   39          State-gov   Bachelors             13        Never-married   \n",
      "1   50   Self-emp-not-inc   Bachelors             13   Married-civ-spouse   \n",
      "2   38            Private     HS-grad              9             Divorced   \n",
      "3   53            Private        11th              7   Married-civ-spouse   \n",
      "4   28            Private   Bachelors             13   Married-civ-spouse   \n",
      "\n",
      "           occupation    relationship ethnicity   gender  capital-gain  \\\n",
      "0        Adm-clerical   Not-in-family     White     Male          2174   \n",
      "1     Exec-managerial         Husband     White     Male             0   \n",
      "2   Handlers-cleaners   Not-in-family     White     Male             0   \n",
      "3   Handlers-cleaners         Husband     Black     Male             0   \n",
      "4      Prof-specialty            Wife     Black   Female             0   \n",
      "\n",
      "   capital-loss  hours-per-week    loan  \n",
      "0             0              40   <=50K  \n",
      "1             0              13   <=50K  \n",
      "2             0              40   <=50K  \n",
      "3             0              40   <=50K  \n",
      "4             0              40   <=50K  \n"
     ]
    }
   ],
   "source": [
    "dataset_select_label = Label(layout=Layout(width='auto', height='auto'), value='Select a dataset (you can specify custom one by selecting other):')\n",
    "dataset_select_dropdown = widgets.Dropdown(options=[m.name for m in Datasets], value=None, layout=Layout(width='200px', height='auto'))\n",
    "name_url_text_label = Label(value='Provide dataset name and URL:')\n",
    "name_text = widgets.Text(description='Name: ', placeholder='e.g. Car Evaluation Data Set', disabled=True)\n",
    "url_text = widgets.Text(description='URL: ', placeholder='e.g. https://archive.ics.uci.edu/ml/machine-learning-databases/car/car.data', disabled=True)\n",
    "dataset_select_button = widgets.Button(description='Download dataset', layout=Layout(width='300px', height='auto'), style=ButtonStyle(button_color='green'), tooltip='Click me', icon='download', disabled=True)\n",
    "dataset_select_output = widgets.Output()\n",
    "\n",
    "display(dataset_select_label,\n",
    "        dataset_select_dropdown,\n",
    "        name_url_text_label,\n",
    "        name_text,\n",
    "        url_text,\n",
    "        dataset_select_button,\n",
    "        dataset_select_output)\n",
    "\n",
    "def on_value_change_dataset_select_dropdown(change):\n",
    "    dataset_select_output.clear_output()\n",
    "    global dataset\n",
    "    new_value = str(change['new'])\n",
    "    if new_value == 'other':\n",
    "        name_text.disabled=False\n",
    "        url_text.disabled=False\n",
    "        dataset_select_button.disabled=False\n",
    "    else:\n",
    "        name_text.disabled=True\n",
    "        url_text.disabled=True\n",
    "        dataset_select_button.disabled=True\n",
    "        dataset, msg = get_dataset(new_value)\n",
    "        with dataset_select_output:\n",
    "            display(msg)\n",
    "            \n",
    "def on_click_dataset_select_button(self):\n",
    "    dataset_select_output.clear_output()\n",
    "    global dataset\n",
    "    name = str(name_text.value)\n",
    "    url = str(url_text.value)\n",
    "    dataset, msg = get_dataset(name, url)\n",
    "    with dataset_select_output:\n",
    "        display(msg)\n",
    "\n",
    "dataset_select_dropdown.observe(on_value_change_dataset_select_dropdown, names='value')\n",
    "dataset_select_button.on_click(on_click_dataset_select_button)\n",
    "\n",
    "# Delete lines after this comment\n",
    "dataset, msg = get_dataset('census')"
   ]
  },
  {
   "cell_type": "code",
   "execution_count": 3,
   "metadata": {
    "scrolled": true
   },
   "outputs": [
    {
     "data": {
      "application/vnd.jupyter.widget-view+json": {
       "model_id": "5a8fd302ea4e47aa9d4839e0a33ccc14",
       "version_major": 2,
       "version_minor": 0
      },
      "text/plain": [
       "HBox(children=(Button(icon='undo', layout=Layout(height='auto', width='auto'), style=ButtonStyle(button_color=…"
      ]
     },
     "metadata": {},
     "output_type": "display_data"
    },
    {
     "data": {
      "application/vnd.jupyter.widget-view+json": {
       "model_id": "27ac621d19f34786aa320dc5548ea429",
       "version_major": 2,
       "version_minor": 0
      },
      "text/plain": [
       "Label(value='Strip a column from the dataset:', layout=Layout(height='auto', width='auto'))"
      ]
     },
     "metadata": {},
     "output_type": "display_data"
    },
    {
     "data": {
      "application/vnd.jupyter.widget-view+json": {
       "model_id": "35a63430bdf94977945a7f312130323e",
       "version_major": 2,
       "version_minor": 0
      },
      "text/plain": [
       "Dropdown(layout=Layout(height='auto', width='220px'), options=('age', 'workclass', 'education', 'education-num…"
      ]
     },
     "metadata": {},
     "output_type": "display_data"
    },
    {
     "data": {
      "application/vnd.jupyter.widget-view+json": {
       "model_id": "765eabf48c9b4c028a27a515138d876b",
       "version_major": 2,
       "version_minor": 0
      },
      "text/plain": [
       "Output()"
      ]
     },
     "metadata": {},
     "output_type": "display_data"
    }
   ],
   "source": [
    "from pandas.api.types import is_numeric_dtype, is_string_dtype\n",
    "\n",
    "strip_column_select_label = Label(layout=Layout(width='auto', height='auto'), value='Strip a column from the dataset:')\n",
    "strip_column_select_dropdown = widgets.Dropdown(options=list(dataset.df.columns), value=None, layout=Layout(width='220px', height='auto'))\n",
    "strip_button = widgets.Button(disabled=False, style=ButtonStyle(button_color='yellow'), tooltip='Strips everything except the selected value.', icon='bolt', layout=Layout(width='max-content', height='auto'))\n",
    "strip_column_output = widgets.Output()\n",
    "strip_column_output_inner = widgets.Output()\n",
    "\n",
    "# back up initial dataset\n",
    "df_backup = dataset.df\n",
    "\n",
    "#defaults for the cell\n",
    "eq_value = '='\n",
    "df_stripped = None\n",
    "\n",
    "def on_value_change_strip_column_select_dropdown(change):\n",
    "    strip_column_output.clear_output()\n",
    "    strip_column_output_inner.clear_output()\n",
    "    strip_button.description = ''\n",
    "    new_value = str(change['new'])\n",
    "    if is_numeric_dtype(dataset.df[new_value]):\n",
    "        eq_radio = init_strip_eq_radio(on_value_change_eq_radio)\n",
    "        min_val, max_val, step=calculate_slider_properties(dataset.df[new_value].unique())\n",
    "        value_slider = init_strip_value_slider(on_value_change_value_slider, min_val, max_val, step)\n",
    "        with strip_column_output:\n",
    "            display(eq_radio, value_slider, strip_button, strip_column_output_inner)\n",
    "    elif is_string_dtype(dataset.df[new_value]):\n",
    "        value_select_dropdown = init_strip_value_select_dropdown(on_value_change_value_select_dropdown, list(dataset.df[new_value].unique()))\n",
    "        with strip_column_output:\n",
    "            display(value_select_dropdown, strip_button, strip_column_output_inner)\n",
    "            \n",
    "def on_value_change_value_select_dropdown(change):\n",
    "    strip_column_output_inner.clear_output()\n",
    "    global df_stripped\n",
    "    new_value = str(change['new'])\n",
    "    with strip_column_output_inner:\n",
    "        strip_button.description='{} \\'{}\\''.format(strip_column_select_dropdown.value, new_value)\n",
    "        df_stripped = get_stripped_df(dataset.df, strip_column_select_dropdown.value, new_value)\n",
    "        display(df_stripped)\n",
    "\n",
    "def on_value_change_value_slider(change):\n",
    "    strip_column_output_inner.clear_output()\n",
    "    global df_stripped\n",
    "    new_value = float(str(change['new']))    \n",
    "    with strip_column_output_inner:\n",
    "        strip_button.description='{} {} \\'{}\\''.format(strip_column_select_dropdown.value, eq_value, new_value)\n",
    "        df_stripped = get_stripped_df(dataset.df, strip_column_select_dropdown.value, new_value, eq_value)\n",
    "        display(df_stripped)\n",
    "\n",
    "def on_value_change_eq_radio(change):\n",
    "    global eq_value\n",
    "    eq_value = str(change['new'])\n",
    "            \n",
    "def on_click_strip_button(self):\n",
    "    strip_column_output.clear_output()\n",
    "    global stack_label, df_stripped\n",
    "    dataset.df = df_stripped\n",
    "    dataset.df.reset_index(drop=True, inplace=True)\n",
    "    stack_label.value = stack_label.value + strip_button.description + ', ' \n",
    "    with strip_column_output:\n",
    "        display('{} selected successfully.'.format(strip_button.description), dataset.df)\n",
    "    \n",
    "def on_click_reset_button(self):\n",
    "    strip_column_output.clear_output()\n",
    "    dataset.df = df_backup\n",
    "    dataset.df.reset_index(drop=True, inplace=True)\n",
    "    global stack_label\n",
    "    stack_label.value = 'Stripped columns for the dataset: '\n",
    "    with strip_column_output:\n",
    "        display('Dataset restored to its initial state.', dataset.df)\n",
    "\n",
    "hbox = generate_reset_strip_hbox(on_click_reset_button)\n",
    "stack_label = get_reset_strip_hbox_label(hbox)\n",
    "    \n",
    "strip_column_select_dropdown.observe(on_value_change_strip_column_select_dropdown, names='value')\n",
    "strip_button.on_click(on_click_strip_button)\n",
    "\n",
    "display(hbox, strip_column_select_label, strip_column_select_dropdown, strip_column_output)"
   ]
  },
  {
   "cell_type": "markdown",
   "metadata": {},
   "source": [
    "Analyze dataset with the XAI toolset."
   ]
  },
  {
   "cell_type": "code",
   "execution_count": 4,
   "metadata": {
    "scrolled": true
   },
   "outputs": [
    {
     "data": {
      "application/vnd.jupyter.widget-view+json": {
       "model_id": "f44ad0eae43f40d6bc5683104181a57e",
       "version_major": 2,
       "version_minor": 0
      },
      "text/plain": [
       "GridBox(children=(Label(value='Features to analyze: ', layout=Layout(height='auto', width='auto')), Button(dis…"
      ]
     },
     "metadata": {},
     "output_type": "display_data"
    },
    {
     "data": {
      "application/vnd.jupyter.widget-view+json": {
       "model_id": "594c6c3c75f34733b65794b0224c0142",
       "version_major": 2,
       "version_minor": 0
      },
      "text/plain": [
       "Output()"
      ]
     },
     "metadata": {},
     "output_type": "display_data"
    }
   ],
   "source": [
    "show_imbalance_selectmultiple = widgets.SelectMultiple(options=list(dataset.df.columns), rows=len(list(dataset.df.columns)) if len(list(dataset.df.columns)) <= 20 else 20, layout=Layout(width='auto', height='auto'))\n",
    "show_imbalance_button = widgets.Button(description='Show imbalances', layout=Layout(width='auto', height='auto'), button_style='info', tooltip='Click me', icon='cubes')\n",
    "correlations_matrix_button = Button(description='Correlations as a hierarchical dendogram', tooltip='Click me', icon='sitemap', layout=Layout(width='auto', height='auto'), disabled=False, style=ButtonStyle(button_color='darkseagreen'))\n",
    "correlations_dendogram_button = Button(description='Correlations as a matrix', tooltip='Click me', icon='th-large', layout=Layout(width='auto', height='auto'), disabled=False, style=ButtonStyle(button_color='orange'))\n",
    "show_imbalance_output = widgets.Output()\n",
    "\n",
    "def on_click_show_imbalance_button(self):\n",
    "    show_imbalance_output.clear_output()\n",
    "    features_to_analyze = list(show_imbalance_selectmultiple.value)\n",
    "    with show_imbalance_output:\n",
    "        xai.imbalance_plot(dataset.df, *features_to_analyze)\n",
    "        \n",
    "def on_click_correlations_matrix_button(self):\n",
    "    show_imbalance_output.clear_output()\n",
    "    with show_imbalance_output:\n",
    "        display(xai.correlations(dataset.df, include_categorical=True, plot_type=\"matrix\"))\n",
    "        \n",
    "def on_click_correlations_dendogram_button(self):\n",
    "    show_imbalance_output.clear_output()\n",
    "    with show_imbalance_output:\n",
    "        display(xai.correlations(dataset.df, include_categorical=True))\n",
    "\n",
    "show_imbalance_button.on_click(on_click_show_imbalance_button)\n",
    "correlations_matrix_button.on_click(on_click_correlations_matrix_button)\n",
    "correlations_dendogram_button.on_click(on_click_correlations_dendogram_button)\n",
    "\n",
    "grid_box = generate_analyze_grid(show_imbalance_selectmultiple,\n",
    "                                 show_imbalance_button,\n",
    "                                 correlations_dendogram_button,\n",
    "                                 correlations_matrix_button)\n",
    "\n",
    "display(grid_box, show_imbalance_output)"
   ]
  },
  {
   "cell_type": "markdown",
   "metadata": {},
   "source": [
    "Select a target and the number of models to be trained, analyzed and compared."
   ]
  },
  {
   "cell_type": "code",
   "execution_count": 5,
   "metadata": {},
   "outputs": [
    {
     "data": {
      "application/vnd.jupyter.widget-view+json": {
       "model_id": "bdc6624495d84d16996cf6742b9c6f18",
       "version_major": 2,
       "version_minor": 0
      },
      "text/plain": [
       "Dropdown(options=('age', 'workclass', 'education', 'education-num', 'marital-status', 'occupation', 'relations…"
      ]
     },
     "metadata": {},
     "output_type": "display_data"
    },
    {
     "data": {
      "application/vnd.jupyter.widget-view+json": {
       "model_id": "e7ada29cf9ec483cab13f33707adf3ec",
       "version_major": 2,
       "version_minor": 0
      },
      "text/plain": [
       "Button(button_style='success', description='Select target', icon='mouse-pointer', style=ButtonStyle(), tooltip…"
      ]
     },
     "metadata": {},
     "output_type": "display_data"
    },
    {
     "data": {
      "application/vnd.jupyter.widget-view+json": {
       "model_id": "3f4118f150b841a395f54b7bf24aea81",
       "version_major": 2,
       "version_minor": 0
      },
      "text/plain": [
       "Output()"
      ]
     },
     "metadata": {},
     "output_type": "display_data"
    },
    {
     "name": "stderr",
     "output_type": "stream",
     "text": [
      "31-May-20 11:25:57 - Target 'loan' selected successfully.\n"
     ]
    }
   ],
   "source": [
    "target_dropdown = widgets.Dropdown(options=list(dataset.df.columns), value=None, disabled=False)\n",
    "target_select_button = widgets.Button(description='Select target', disabled=False, button_style='success', tooltip='Click me', icon='mouse-pointer')\n",
    "target_output = widgets.Output()\n",
    "\n",
    "display(target_dropdown, target_select_button, target_output)\n",
    "\n",
    "def on_value_change_target_dropdown(change):\n",
    "    target_output.clear_output()\n",
    "    df_target, msg = show_target(dataset.df, change['new'])\n",
    "    with target_output:\n",
    "        display(df_target)\n",
    "\n",
    "def on_click_target_select_button(self):\n",
    "    target_output.clear_output()\n",
    "    global df_X, df_y\n",
    "    df_X, df_y, msg = split_feature_target(dataset.df, target_dropdown.value)\n",
    "    with target_output:\n",
    "        display(msg)\n",
    "\n",
    "target_dropdown.observe(on_value_change_target_dropdown, names='value')\n",
    "target_select_button.on_click(on_click_target_select_button)\n",
    "\n",
    "# Delete lines after this comment\n",
    "df_X, df_y, msg = split_feature_target(dataset.df, \"loan\")"
   ]
  },
  {
   "cell_type": "markdown",
   "metadata": {},
   "source": [
    "Train a model by selecting its properties. _Hover the mouse over the description of a property in order to get more information about it._"
   ]
  },
  {
   "cell_type": "code",
   "execution_count": 6,
   "metadata": {
    "scrolled": false
   },
   "outputs": [
    {
     "data": {
      "application/vnd.jupyter.widget-view+json": {
       "model_id": "f4db6986ab0546ccb77cd51ba1e836e3",
       "version_major": 2,
       "version_minor": 0
      },
      "text/plain": [
       "Label(value='Choose the number of models to be used: ', layout=Layout(height='auto', width='auto'))"
      ]
     },
     "metadata": {},
     "output_type": "display_data"
    },
    {
     "data": {
      "application/vnd.jupyter.widget-view+json": {
       "model_id": "1238ecbc582f43798384951a52f6e71b",
       "version_major": 2,
       "version_minor": 0
      },
      "text/plain": [
       "IntSlider(value=1, continuous_update=False, max=8, min=1)"
      ]
     },
     "metadata": {},
     "output_type": "display_data"
    },
    {
     "data": {
      "application/vnd.jupyter.widget-view+json": {
       "model_id": "588988a934dd4b4f8cc7e78d26954ae5",
       "version_major": 2,
       "version_minor": 0
      },
      "text/plain": [
       "Output()"
      ]
     },
     "metadata": {},
     "output_type": "display_data"
    }
   ],
   "source": [
    "models_label = Label(layout=Layout(width='auto', height='auto'), value='Choose the number of models to be used: ')\n",
    "models_slider = widgets.IntSlider(value=1, min=1, max=8, step=1, disabled=False, continuous_update=False, orientation='horizontal', readout=True, readout_format='d')\n",
    "models_output = widgets.Output()\n",
    "\n",
    "def draw_grid():\n",
    "    display(generate_model_grid(\n",
    "        df_X,\n",
    "        number_of_models,\n",
    "        models,\n",
    "        on_click_feature_exclude_button=on_click_feature_exclude_button,\n",
    "        on_value_change_split_type_dropdown=on_value_change_split_type_dropdown,\n",
    "        on_click_model_train_button=on_click_model_train_button))\n",
    "\n",
    "def on_value_change_models_slider(change):\n",
    "    models_output.clear_output()\n",
    "    global number_of_models, models\n",
    "    number_of_models = change['new']\n",
    "    models, _ = fill_empty_models(df_X, df_y, number_of_models)\n",
    "    with models_output:\n",
    "        draw_grid()\n",
    "\n",
    "models_slider.observe(on_value_change_models_slider, names='value')\n",
    "display(models_label, models_slider, models_output)\n",
    "\n",
    "def on_value_change_split_type_dropdown(change):\n",
    "    model = get_model_by_split_type_dd(models, change['owner'])\n",
    "    _ = change_cross_columns_status(model, change['new'])\n",
    "\n",
    "def on_click_feature_exclude_button(self):\n",
    "    models_output.clear_output()\n",
    "    model = get_model_by_remove_features_button(models, self)\n",
    "    msg = remove_model_features(model)\n",
    "    with models_output:\n",
    "        draw_grid()\n",
    "\n",
    "def on_click_model_train_button(self):\n",
    "    model = get_model_by_train_model_button(models, self)\n",
    "    msg = fill_model(model)\n",
    "    with models_output:\n",
    "        display(msg)\n",
    "\n",
    "# initially show only one model\n",
    "with models_output:\n",
    "    number_of_models = 1\n",
    "    models, _ = fill_empty_models(df_X, df_y, number_of_models)\n",
    "\n",
    "    draw_grid()"
   ]
  },
  {
   "cell_type": "code",
   "execution_count": 7,
   "metadata": {},
   "outputs": [
    {
     "data": {
      "application/vnd.jupyter.widget-view+json": {
       "model_id": "1d0b0d3235114a26a2496bd8bd5d9071",
       "version_major": 2,
       "version_minor": 0
      },
      "text/plain": [
       "GridBox(children=(Label(value='Choose one or more feature importance method(s)', layout=Layout(height='auto', …"
      ]
     },
     "metadata": {},
     "output_type": "display_data"
    },
    {
     "data": {
      "application/vnd.jupyter.widget-view+json": {
       "model_id": "72cd9ffcc558464482bfb118f912d414",
       "version_major": 2,
       "version_minor": 0
      },
      "text/plain": [
       "Button(button_style='info', description='Generate feature importance plot(s)', icon='bullseye', layout=Layout(…"
      ]
     },
     "metadata": {},
     "output_type": "display_data"
    },
    {
     "data": {
      "application/vnd.jupyter.widget-view+json": {
       "model_id": "f741f9ef928a4f05854b452738a9f61c",
       "version_major": 2,
       "version_minor": 0
      },
      "text/plain": [
       "Output()"
      ]
     },
     "metadata": {},
     "output_type": "display_data"
    }
   ],
   "source": [
    "feature_importance_grid = generate_feature_importance_grid(models=models)\n",
    "feature_importance_button = widgets.Button(description='Generate feature importance plot(s)', disabled=False, layout=Layout(width='auto', height='auto'), button_style='info', tooltip='Click me', icon='bullseye')\n",
    "feature_importance_output = widgets.Output()\n",
    "\n",
    "display(feature_importance_grid, feature_importance_button, feature_importance_output)\n",
    "\n",
    "def on_click_feature_importance_button(self):\n",
    "    feature_importance_output.clear_output()\n",
    "    type_value = get_child_value_by_description(feature_importance_grid, \"Type\", 0)\n",
    "    models_names = get_child_value_by_description(feature_importance_grid, \"Model(s)\", 0)\n",
    "    selected_models = get_models_by_names(models, models_names)\n",
    "    for model in selected_models:\n",
    "        with feature_importance_output:\n",
    "            plot = generate_feature_importance_plot(type_value, model)\n",
    "            if plot:\n",
    "                display(plot)\n",
    "\n",
    "feature_importance_button.on_click(on_click_feature_importance_button)"
   ]
  },
  {
   "cell_type": "markdown",
   "metadata": {},
   "source": [
    "The partial dependence plot (short PDP or PD plot) shows the marginal effect one or two features have on the predicted outcome of a machine learning model — J. H. Friedman"
   ]
  },
  {
   "cell_type": "code",
   "execution_count": 8,
   "metadata": {
    "scrolled": true
   },
   "outputs": [
    {
     "data": {
      "application/vnd.jupyter.widget-view+json": {
       "model_id": "90aef4e550634838a69ef824f16c7073",
       "version_major": 2,
       "version_minor": 0
      },
      "text/plain": [
       "GridBox(children=(Label(value='Choose one or more PDP method(s)', layout=Layout(height='auto', width='auto')),…"
      ]
     },
     "metadata": {},
     "output_type": "display_data"
    },
    {
     "data": {
      "application/vnd.jupyter.widget-view+json": {
       "model_id": "118c7fe0403e429f999182a971410474",
       "version_major": 2,
       "version_minor": 0
      },
      "text/plain": [
       "Button(button_style='success', description='Select model(s)', icon='mouse-pointer', layout=Layout(height='auto…"
      ]
     },
     "metadata": {},
     "output_type": "display_data"
    },
    {
     "data": {
      "application/vnd.jupyter.widget-view+json": {
       "model_id": "583e604d692445ac9c60144d9a8207e5",
       "version_major": 2,
       "version_minor": 0
      },
      "text/plain": [
       "Output()"
      ]
     },
     "metadata": {},
     "output_type": "display_data"
    }
   ],
   "source": [
    "pdp_grid = generate_pdp_grid(models=models)\n",
    "pdp_model_select_button = widgets.Button(description='Select model(s)', disabled=False, layout=Layout(width='auto', height='auto'), button_style='success', tooltip='Click me', icon='mouse-pointer')\n",
    "pdp_output = widgets.Output()\n",
    "# Inner output\n",
    "pdp_feature_selection_grid = None\n",
    "generate_pdp_plots_button = widgets.Button(description='Generate PDP plot(s)', disabled=False, layout=Layout(width='auto', height='auto'), button_style='info', tooltip='Click me', icon='bullseye')\n",
    "generate_pdp_output = widgets.Output()\n",
    "\n",
    "display(pdp_grid, pdp_model_select_button, pdp_output)\n",
    "\n",
    "def on_click_pdp_model_select_button(self):\n",
    "    pdp_output.clear_output()\n",
    "    generate_pdp_output.clear_output()\n",
    "    models_names = get_child_value_by_description(pdp_grid, \"Model(s)\", 0)\n",
    "    global pdp_feature_selection_grid\n",
    "    pdp_feature_selection_grid = generate_pdp_feature_selection_grid(get_models_by_names(models, models_names))\n",
    "    with pdp_output:\n",
    "        display(pdp_feature_selection_grid, generate_pdp_plots_button, generate_pdp_output)\n",
    "\n",
    "def on_click_generate_pdp_plots_button(self):\n",
    "    generate_pdp_output.clear_output()\n",
    "    type_value = get_child_value_by_description(pdp_grid, \"Type\", 0)\n",
    "    for model in models:\n",
    "        feature1 = get_child_value_by_description(pdp_feature_selection_grid, \"... \" + model.name, 0)\n",
    "        feature2 = get_child_value_by_description(pdp_feature_selection_grid, \"... \" + model.name, 1)\n",
    "        with generate_pdp_output:\n",
    "            generate_pdp_plots(type_value, model, feature1, feature2)    \n",
    "        \n",
    "pdp_model_select_button.on_click(on_click_pdp_model_select_button)\n",
    "generate_pdp_plots_button.on_click(on_click_generate_pdp_plots_button)"
   ]
  },
  {
   "cell_type": "code",
   "execution_count": 9,
   "metadata": {},
   "outputs": [],
   "source": [
    "model, = models"
   ]
  },
  {
   "cell_type": "code",
   "execution_count": null,
   "metadata": {
    "scrolled": false
   },
   "outputs": [],
   "source": []
  },
  {
   "cell_type": "markdown",
   "metadata": {},
   "source": [
    "Interpret a single example locally with LIME."
   ]
  },
  {
   "cell_type": "code",
   "execution_count": null,
   "metadata": {},
   "outputs": [
    {
     "name": "stderr",
     "output_type": "stream",
     "text": [
      "31-May-20 11:27:26 - Local explanation for Model 1.\n"
     ]
    }
   ],
   "source": [
    "for i in range(1):\n",
    "    rand = random.randrange(100)\n",
    "    for model in models:\n",
    "        log.info(\"Local explanation for {}.\".format(model.name))\n",
    "        explanation = explain_single_instance(model.model, model.X, model.y, rand)\n",
    "        explanation.show_in_notebook(show_table=True, show_all=True)"
   ]
  },
  {
   "cell_type": "code",
   "execution_count": null,
   "metadata": {
    "scrolled": true
   },
   "outputs": [],
   "source": []
  },
  {
   "cell_type": "markdown",
   "metadata": {},
   "source": [
    "..."
   ]
  }
 ],
 "metadata": {
  "kernelspec": {
   "display_name": "Python 3",
   "language": "python",
   "name": "python3"
  },
  "language_info": {
   "codemirror_mode": {
    "name": "ipython",
    "version": 3
   },
   "file_extension": ".py",
   "mimetype": "text/x-python",
   "name": "python",
   "nbconvert_exporter": "python",
   "pygments_lexer": "ipython3",
   "version": "3.8.2"
  }
 },
 "nbformat": 4,
 "nbformat_minor": 2
}
