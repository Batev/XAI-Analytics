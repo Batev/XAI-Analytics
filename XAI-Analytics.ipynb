{
 "cells": [
  {
   "cell_type": "markdown",
   "metadata": {},
   "source": [
    "# XAI Analytics Notebook"
   ]
  },
  {
   "cell_type": "code",
   "execution_count": 1,
   "metadata": {},
   "outputs": [
    {
     "name": "stderr",
     "output_type": "stream",
     "text": [
      "g:\\projects\\github\\xai-analytics\\xai-analytics_env\\lib\\site-packages\\sklearn\\utils\\deprecation.py:144: FutureWarning: The sklearn.metrics.scorer module is  deprecated in version 0.22 and will be removed in version 0.24. The corresponding classes / functions should instead be imported from sklearn.metrics. Anything that cannot be imported from sklearn.metrics is now part of the private API.\n",
      "  warnings.warn(message, FutureWarning)\n",
      "g:\\projects\\github\\xai-analytics\\xai-analytics_env\\lib\\site-packages\\sklearn\\utils\\deprecation.py:144: FutureWarning: The sklearn.feature_selection.base module is  deprecated in version 0.22 and will be removed in version 0.24. The corresponding classes / functions should instead be imported from sklearn.feature_selection. Anything that cannot be imported from sklearn.feature_selection is now part of the private API.\n",
      "  warnings.warn(message, FutureWarning)\n"
     ]
    }
   ],
   "source": [
    "import os\n",
    "import xai\n",
    "import logging as log \n",
    "import ipywidgets as widgets\n",
    "import util.commons\n",
    "import eli5\n",
    "import random\n",
    "\n",
    "from xai import imbalance_plot\n",
    "from datetime import date\n",
    "from util.commons import *\n",
    "from util.ui import *\n",
    "from util.model import *\n",
    "from util.split import *\n",
    "from util.dataset import *\n",
    "from ipywidgets import interact, interact_manual, interactive, interactive_output\n",
    "from ipywidgets import Button, GridBox, Layout, ButtonStyle, Label\n",
    "from IPython.display import clear_output"
   ]
  },
  {
   "cell_type": "markdown",
   "metadata": {},
   "source": [
    "Select the dataset that you would like to invastigate later with the help of the available interpretability tools."
   ]
  },
  {
   "cell_type": "code",
   "execution_count": 2,
   "metadata": {},
   "outputs": [
    {
     "data": {
      "application/vnd.jupyter.widget-view+json": {
       "model_id": "3202702732f044a8b586452f9801c7d1",
       "version_major": 2,
       "version_minor": 0
      },
      "text/plain": [
       "Label(value='Select a dataset (you can specify custom one by selecting other):', layout=Layout(height='auto', …"
      ]
     },
     "metadata": {},
     "output_type": "display_data"
    },
    {
     "data": {
      "application/vnd.jupyter.widget-view+json": {
       "model_id": "6f2215abd146463da62d1268852be94e",
       "version_major": 2,
       "version_minor": 0
      },
      "text/plain": [
       "Dropdown(layout=Layout(height='auto', width='200px'), options=('anes96', 'cancer', 'ccard', 'china_smoking', '…"
      ]
     },
     "metadata": {},
     "output_type": "display_data"
    },
    {
     "data": {
      "application/vnd.jupyter.widget-view+json": {
       "model_id": "2b1de61663c248cc96ad0872261523a4",
       "version_major": 2,
       "version_minor": 0
      },
      "text/plain": [
       "Label(value='Provide dataset name and URL:')"
      ]
     },
     "metadata": {},
     "output_type": "display_data"
    },
    {
     "data": {
      "application/vnd.jupyter.widget-view+json": {
       "model_id": "a117aa9b49e04c648357513934596102",
       "version_major": 2,
       "version_minor": 0
      },
      "text/plain": [
       "Text(value='', description='Name: ', disabled=True, placeholder='e.g. Car Evaluation Data Set')"
      ]
     },
     "metadata": {},
     "output_type": "display_data"
    },
    {
     "data": {
      "application/vnd.jupyter.widget-view+json": {
       "model_id": "a9d282ba3787470b8c40b845594e9e35",
       "version_major": 2,
       "version_minor": 0
      },
      "text/plain": [
       "Text(value='', description='URL: ', disabled=True, placeholder='e.g. https://archive.ics.uci.edu/ml/machine-le…"
      ]
     },
     "metadata": {},
     "output_type": "display_data"
    },
    {
     "data": {
      "application/vnd.jupyter.widget-view+json": {
       "model_id": "39f6d17a8fed4a15b77d875e33d6577b",
       "version_major": 2,
       "version_minor": 0
      },
      "text/plain": [
       "Button(description='Download dataset', disabled=True, icon='download', layout=Layout(height='auto', width='300…"
      ]
     },
     "metadata": {},
     "output_type": "display_data"
    },
    {
     "data": {
      "application/vnd.jupyter.widget-view+json": {
       "model_id": "845e4f6995984ede87d3295a1a7628ad",
       "version_major": 2,
       "version_minor": 0
      },
      "text/plain": [
       "Output()"
      ]
     },
     "metadata": {},
     "output_type": "display_data"
    },
    {
     "name": "stderr",
     "output_type": "stream",
     "text": [
      "12-Apr-20 16:54:47 - Dataset 'grunfeld (Grunfeld (1950) Investment Data)' loaded successfully. For further information about this dataset please visit: http://www.statsmodels.org/dev/datasets/generated/grunfeld.html\n",
      "12-Apr-20 16:54:47 - \n",
      "   invest   value  capital            firm    year\n",
      "0   317.6  3078.5      2.8  General Motors  1935.0\n",
      "1   391.8  4661.7     52.6  General Motors  1936.0\n",
      "2   410.6  5387.1    156.9  General Motors  1937.0\n",
      "3   257.7  2792.2    209.2  General Motors  1938.0\n",
      "4   330.8  4313.2    203.4  General Motors  1939.0\n"
     ]
    }
   ],
   "source": [
    "dataset_select_label = Label(layout=Layout(width='auto', height='auto'), value='Select a dataset (you can specify custom one by selecting other):')\n",
    "dataset_select_dropdown = widgets.Dropdown(options=[m.name for m in Datasets], value=None, layout=Layout(width='200px', height='auto'))\n",
    "name_url_text_label = Label(value='Provide dataset name and URL:')\n",
    "name_text = widgets.Text(description='Name: ', placeholder='e.g. Car Evaluation Data Set', disabled=True)\n",
    "url_text = widgets.Text(description='URL: ', placeholder='e.g. https://archive.ics.uci.edu/ml/machine-learning-databases/car/car.data', disabled=True)\n",
    "dataset_select_button = widgets.Button(description='Download dataset', layout=Layout(width='300px', height='auto'), style=ButtonStyle(button_color='green'), tooltip='Click me', icon='download', disabled=True)\n",
    "dataset_select_output = widgets.Output()\n",
    "\n",
    "display(dataset_select_label,\n",
    "        dataset_select_dropdown,\n",
    "        name_url_text_label,\n",
    "        name_text,\n",
    "        url_text,\n",
    "        dataset_select_button,\n",
    "        dataset_select_output)\n",
    "\n",
    "def on_value_change_dataset_select_dropdown(change):\n",
    "    dataset_select_output.clear_output()\n",
    "    global dataset\n",
    "    new_value = str(change['new'])\n",
    "    if new_value == 'other':\n",
    "        name_text.disabled=False\n",
    "        url_text.disabled=False\n",
    "        dataset_select_button.disabled=False\n",
    "    else:\n",
    "        name_text.disabled=True\n",
    "        url_text.disabled=True\n",
    "        dataset_select_button.disabled=True\n",
    "        dataset_id = Datasets[new_value]\n",
    "        dataset, msg = get_dataset(new_value)\n",
    "        with dataset_select_output:\n",
    "            display(msg)\n",
    "            \n",
    "def on_click_dataset_select_button(self):\n",
    "    dataset_select_output.clear_output()\n",
    "    global dataset\n",
    "    name = str(name_text.value)\n",
    "    url = str(url_text.value)\n",
    "    dataset, msg = get_dataset(name, url)\n",
    "    with dataset_select_output:\n",
    "        display(msg)\n",
    "\n",
    "dataset_select_dropdown.observe(on_value_change_dataset_select_dropdown, names='value')\n",
    "dataset_select_button.on_click(on_click_dataset_select_button)"
   ]
  },
  {
   "cell_type": "code",
   "execution_count": 3,
   "metadata": {},
   "outputs": [
    {
     "data": {
      "application/vnd.jupyter.widget-view+json": {
       "model_id": "1a94ffc92e29480ca81ce7a4553cf53b",
       "version_major": 2,
       "version_minor": 0
      },
      "text/plain": [
       "HBox(children=(Button(icon='undo', layout=Layout(height='auto', width='auto'), style=ButtonStyle(button_color=…"
      ]
     },
     "metadata": {},
     "output_type": "display_data"
    },
    {
     "data": {
      "application/vnd.jupyter.widget-view+json": {
       "model_id": "cdc1b5c733074078b8b288c715bc2ce9",
       "version_major": 2,
       "version_minor": 0
      },
      "text/plain": [
       "Label(value='Strip a column from the dataset:', layout=Layout(height='auto', width='auto'))"
      ]
     },
     "metadata": {},
     "output_type": "display_data"
    },
    {
     "data": {
      "application/vnd.jupyter.widget-view+json": {
       "model_id": "5832791d8c584b0d8e4d720416e8b3dc",
       "version_major": 2,
       "version_minor": 0
      },
      "text/plain": [
       "Dropdown(layout=Layout(height='auto', width='220px'), options=('invest', 'value', 'capital', 'firm', 'year'), …"
      ]
     },
     "metadata": {},
     "output_type": "display_data"
    },
    {
     "data": {
      "application/vnd.jupyter.widget-view+json": {
       "model_id": "857198db81db4d28b4a8904b28d67e88",
       "version_major": 2,
       "version_minor": 0
      },
      "text/plain": [
       "Output()"
      ]
     },
     "metadata": {},
     "output_type": "display_data"
    }
   ],
   "source": [
    "from pandas.api.types import is_numeric_dtype, is_string_dtype\n",
    "\n",
    "strip_column_select_label = Label(layout=Layout(width='auto', height='auto'), value='Strip a column from the dataset:')\n",
    "strip_column_select_dropdown = widgets.Dropdown(options=list(dataset.df.columns), value=None, layout=Layout(width='220px', height='auto'))\n",
    "strip_button = widgets.Button(disabled=False, style=ButtonStyle(button_color='yellow'), tooltip='Strips everything except the selected value.', icon='bolt', layout=Layout(width='max-content', height='auto'))\n",
    "strip_column_output = widgets.Output()\n",
    "strip_column_output_inner = widgets.Output()\n",
    "\n",
    "# back up initial dataset\n",
    "df_backup = dataset.df\n",
    "\n",
    "#defaults for the cell\n",
    "eq_value = '='\n",
    "df_stripped = None\n",
    "\n",
    "def on_value_change_strip_column_select_dropdown(change):\n",
    "    strip_column_output.clear_output()\n",
    "    strip_column_output_inner.clear_output()\n",
    "    strip_button.description = ''\n",
    "    new_value = str(change['new'])\n",
    "    if is_numeric_dtype(dataset.df[new_value]):\n",
    "        eq_radio = init_strip_eq_radio(on_value_change_eq_radio)\n",
    "        min_val, max_val, step=calculate_slider_properties(dataset.df[new_value].unique())\n",
    "        value_slider = init_strip_value_slider(on_value_change_value_slider, min_val, max_val, step)\n",
    "        with strip_column_output:\n",
    "            display(eq_radio, value_slider, strip_button, strip_column_output_inner)\n",
    "    elif is_string_dtype(dataset.df[new_value]):\n",
    "        value_select_dropdown = init_strip_value_select_dropdown(on_value_change_value_select_dropdown, list(dataset.df[new_value].unique()))\n",
    "        with strip_column_output:\n",
    "            display(value_select_dropdown, strip_button, strip_column_output_inner)\n",
    "            \n",
    "def on_value_change_value_select_dropdown(change):\n",
    "    strip_column_output_inner.clear_output()\n",
    "    global df_stripped\n",
    "    new_value = str(change['new'])\n",
    "    with strip_column_output_inner:\n",
    "        strip_button.description='{} \\'{}\\''.format(strip_column_select_dropdown.value, new_value)\n",
    "        df_stripped = get_stripped_df(dataset.df, strip_column_select_dropdown.value, new_value)\n",
    "        display(df_stripped)\n",
    "\n",
    "def on_value_change_value_slider(change):\n",
    "    strip_column_output_inner.clear_output()\n",
    "    global df_stripped\n",
    "    new_value = float(str(change['new']))    \n",
    "    with strip_column_output_inner:\n",
    "        strip_button.description='{} {} \\'{}\\''.format(strip_column_select_dropdown.value, eq_value, new_value)\n",
    "        df_stripped = get_stripped_df(dataset.df, strip_column_select_dropdown.value, new_value, eq_value)\n",
    "        display(df_stripped)\n",
    "\n",
    "def on_value_change_eq_radio(change):\n",
    "    global eq_value\n",
    "    eq_value = str(change['new'])\n",
    "            \n",
    "def on_click_strip_button(self):\n",
    "    strip_column_output.clear_output()\n",
    "    global stack_label, df_stripped\n",
    "    dataset.df = df_stripped\n",
    "    stack_label.value = stack_label.value + strip_button.description + ', ' \n",
    "    with strip_column_output:\n",
    "        display('{} selected successfully.'.format(strip_button.description), dataset.df)\n",
    "    \n",
    "def on_click_reset_button(self):\n",
    "    strip_column_output.clear_output()\n",
    "    dataset.df = df_backup\n",
    "    global stack_label\n",
    "    stack_label.value = 'Stripped columns for the dataset: '\n",
    "    with strip_column_output:\n",
    "        display('Dataset restored to its initial state.', dataset.df)\n",
    "\n",
    "hbox = generate_reset_strip_hbox(on_click_reset_button)\n",
    "stack_label = get_reset_strip_hbox_label(hbox)\n",
    "    \n",
    "strip_column_select_dropdown.observe(on_value_change_strip_column_select_dropdown, names='value')\n",
    "strip_button.on_click(on_click_strip_button)\n",
    "\n",
    "display(hbox, strip_column_select_label, strip_column_select_dropdown, strip_column_output)"
   ]
  },
  {
   "cell_type": "markdown",
   "metadata": {},
   "source": [
    "Analyze dataset with the XAI toolset."
   ]
  },
  {
   "cell_type": "code",
   "execution_count": 4,
   "metadata": {
    "scrolled": true
   },
   "outputs": [
    {
     "data": {
      "application/vnd.jupyter.widget-view+json": {
       "model_id": "53ab9671af9541b4b26d2a61f17a07c1",
       "version_major": 2,
       "version_minor": 0
      },
      "text/plain": [
       "GridBox(children=(Label(value='Features to analyze: ', layout=Layout(height='auto', width='auto')), Button(dis…"
      ]
     },
     "metadata": {},
     "output_type": "display_data"
    },
    {
     "data": {
      "application/vnd.jupyter.widget-view+json": {
       "model_id": "8ce924f3e02440a4a05955ebb2a95822",
       "version_major": 2,
       "version_minor": 0
      },
      "text/plain": [
       "Output()"
      ]
     },
     "metadata": {},
     "output_type": "display_data"
    }
   ],
   "source": [
    "show_imbalance_selectmultiple = widgets.SelectMultiple(options=list(dataset.df.columns), rows=len(list(dataset.df.columns)) if len(list(dataset.df.columns)) <= 20 else 20, layout=Layout(width='auto', height='auto'))\n",
    "show_imbalance_button = widgets.Button(description='Show imbalances', layout=Layout(width='auto', height='auto'), button_style='info', tooltip='Click me', icon='cubes')\n",
    "correlations_matrix_button = Button(description='Correlations as a hierarchical dendogram', tooltip='Click me', icon='sitemap', layout=Layout(width='auto', height='auto'), disabled=False, style=ButtonStyle(button_color='darkseagreen'))\n",
    "correlations_dendogram_button = Button(description='Correlations as a matrix', tooltip='Click me', icon='th-large', layout=Layout(width='auto', height='auto'), disabled=False, style=ButtonStyle(button_color='orange'))\n",
    "show_imbalance_output = widgets.Output()\n",
    "\n",
    "def on_click_show_imbalance_button(self):\n",
    "    show_imbalance_output.clear_output()\n",
    "    features_to_analyze = list(show_imbalance_selectmultiple.value)\n",
    "    with show_imbalance_output:\n",
    "        xai.imbalance_plot(dataset.df, *features_to_analyze)\n",
    "        \n",
    "def on_click_correlations_matrix_button(self):\n",
    "    show_imbalance_output.clear_output()\n",
    "    with show_imbalance_output:\n",
    "        display(xai.correlations(dataset.df, include_categorical=True, plot_type=\"matrix\"))\n",
    "        \n",
    "def on_click_correlations_dendogram_button(self):\n",
    "    show_imbalance_output.clear_output()\n",
    "    with show_imbalance_output:\n",
    "        display(xai.correlations(dataset.df, include_categorical=True))\n",
    "\n",
    "show_imbalance_button.on_click(on_click_show_imbalance_button)\n",
    "correlations_matrix_button.on_click(on_click_correlations_matrix_button)\n",
    "correlations_dendogram_button.on_click(on_click_correlations_dendogram_button)\n",
    "\n",
    "grid_box = generate_analyze_grid(show_imbalance_selectmultiple,\n",
    "                                 show_imbalance_button,\n",
    "                                 correlations_dendogram_button,\n",
    "                                 correlations_matrix_button)\n",
    "\n",
    "display(grid_box, show_imbalance_output)"
   ]
  },
  {
   "cell_type": "markdown",
   "metadata": {},
   "source": [
    "Select a target and the number of models to be trained, analyzed and compared."
   ]
  },
  {
   "cell_type": "code",
   "execution_count": 5,
   "metadata": {},
   "outputs": [
    {
     "data": {
      "application/vnd.jupyter.widget-view+json": {
       "model_id": "bf1e863cb9264883b762497ae5304b80",
       "version_major": 2,
       "version_minor": 0
      },
      "text/plain": [
       "Dropdown(options=('invest', 'value', 'capital', 'firm', 'year'), value=None)"
      ]
     },
     "metadata": {},
     "output_type": "display_data"
    },
    {
     "data": {
      "application/vnd.jupyter.widget-view+json": {
       "model_id": "222353ee7fee4210b75f4e38a1349ab2",
       "version_major": 2,
       "version_minor": 0
      },
      "text/plain": [
       "Button(button_style='success', description='Select target', icon='mouse-pointer', style=ButtonStyle(), tooltip…"
      ]
     },
     "metadata": {},
     "output_type": "display_data"
    },
    {
     "data": {
      "application/vnd.jupyter.widget-view+json": {
       "model_id": "640a5fa44cc6414aadb9d8c6470e16df",
       "version_major": 2,
       "version_minor": 0
      },
      "text/plain": [
       "Output()"
      ]
     },
     "metadata": {},
     "output_type": "display_data"
    },
    {
     "name": "stderr",
     "output_type": "stream",
     "text": [
      "12-Apr-20 16:55:06 - Target 'value' value changed successfully.\n",
      "40    1170.6\n",
      "41    2015.8\n",
      "42    2803.3\n",
      "43    2039.7\n",
      "44    2256.2\n",
      "Name: value, dtype: float64\n",
      "12-Apr-20 16:55:07 - Target 'value' selected successfully.\n"
     ]
    }
   ],
   "source": [
    "target_dropdown = widgets.Dropdown(options=list(dataset.df.columns), value=None, disabled=False)\n",
    "target_select_button = widgets.Button(description='Select target', disabled=False, button_style='success', tooltip='Click me', icon='mouse-pointer')\n",
    "target_output = widgets.Output()\n",
    "\n",
    "display(target_dropdown, target_select_button, target_output)\n",
    "\n",
    "def on_value_change_target_dropdown(change):\n",
    "    target_output.clear_output()\n",
    "    df_target, msg = show_target(dataset.df, change['new'])\n",
    "    with target_output:\n",
    "        display(df_target)\n",
    "\n",
    "def on_click_target_select_button(slef):\n",
    "    target_output.clear_output()\n",
    "    global df_X, df_y\n",
    "    df_X, df_y, msg = split_feature_target(dataset.df, target_dropdown.value)\n",
    "    with target_output:\n",
    "        display(msg)\n",
    "\n",
    "target_dropdown.observe(on_value_change_target_dropdown, names='value')\n",
    "target_select_button.on_click(on_click_target_select_button)"
   ]
  },
  {
   "cell_type": "markdown",
   "metadata": {},
   "source": [
    "Train a model by selecting its properties. _Hover the mouse over the description of a property in order to get more information about it._"
   ]
  },
  {
   "cell_type": "code",
   "execution_count": 6,
   "metadata": {
    "scrolled": true
   },
   "outputs": [
    {
     "data": {
      "application/vnd.jupyter.widget-view+json": {
       "model_id": "bb1d3319e46f4ed2b92bb7e6ec49abe5",
       "version_major": 2,
       "version_minor": 0
      },
      "text/plain": [
       "Label(value='Choose the number of models to be used: ', layout=Layout(height='auto', width='auto'))"
      ]
     },
     "metadata": {},
     "output_type": "display_data"
    },
    {
     "data": {
      "application/vnd.jupyter.widget-view+json": {
       "model_id": "dc07dfe6b37b4e43a27718b2b6f3fec6",
       "version_major": 2,
       "version_minor": 0
      },
      "text/plain": [
       "IntSlider(value=1, continuous_update=False, max=8, min=1)"
      ]
     },
     "metadata": {},
     "output_type": "display_data"
    },
    {
     "data": {
      "application/vnd.jupyter.widget-view+json": {
       "model_id": "6c0ee6a914774aaaaf370a9cacfcd02e",
       "version_major": 2,
       "version_minor": 0
      },
      "text/plain": [
       "Output()"
      ]
     },
     "metadata": {},
     "output_type": "display_data"
    },
    {
     "name": "stderr",
     "output_type": "stream",
     "text": [
      "12-Apr-20 16:55:25 - Models to be trained: '2'.\n"
     ]
    }
   ],
   "source": [
    "models_label = Label(layout=Layout(width='auto', height='auto'), value='Choose the number of models to be used: ')\n",
    "models_slider = widgets.IntSlider(value=1, min=1, max=8, step=1, disabled=False, continuous_update=False, orientation='horizontal', readout=True, readout_format='d')\n",
    "models_output = widgets.Output()\n",
    "\n",
    "\n",
    "def draw_grid():\n",
    "    display(generate_model_grid(\n",
    "        df_X,\n",
    "        number_of_models,\n",
    "        models,\n",
    "        on_click_feature_exclude_button=on_click_feature_exclude_button,\n",
    "        on_value_change_split_type_dropdown=on_value_change_split_type_dropdown,\n",
    "        on_click_model_train_button=on_click_model_train_button))\n",
    "\n",
    "def on_value_change_models_slider(change):\n",
    "    models_output.clear_output()\n",
    "    global number_of_models, models\n",
    "    number_of_models = change['new']\n",
    "    models, _ = fill_empty_models(df_X, df_y, number_of_models)\n",
    "    with models_output:\n",
    "        draw_grid()\n",
    "\n",
    "models_slider.observe(on_value_change_models_slider, names='value')\n",
    "display(models_label, models_slider, models_output)\n",
    "\n",
    "def on_value_change_split_type_dropdown(change):\n",
    "    model = get_model_by_split_type_dd(models, change['owner'])\n",
    "    _ = change_cross_columns_status(model, change['new'])\n",
    "\n",
    "def on_click_feature_exclude_button(self):\n",
    "    models_output.clear_output()\n",
    "    model = get_model_by_remove_features_button(models, self)\n",
    "    msg = remove_model_features(model)\n",
    "    with models_output:\n",
    "        draw_grid()\n",
    "\n",
    "def on_click_model_train_button(self):\n",
    "    model = get_model_by_train_model_button(models, self)\n",
    "    msg = fill_model(model)\n",
    "    with models_output:\n",
    "        display(msg)\n",
    "\n",
    "# initially show only one model\n",
    "with models_output:\n",
    "    number_of_models = 1\n",
    "    models, _ = fill_empty_models(df_X, df_y, number_of_models)\n",
    "    draw_grid()"
   ]
  },
  {
   "cell_type": "markdown",
   "metadata": {},
   "source": [
    "Interpret model globally with eli5."
   ]
  },
  {
   "cell_type": "code",
   "execution_count": 7,
   "metadata": {},
   "outputs": [
    {
     "name": "stderr",
     "output_type": "stream",
     "text": [
      "12-Apr-20 16:55:15 - Global explanation of Model 1.\n"
     ]
    },
    {
     "data": {
      "text/html": [
       "\n",
       "    <style>\n",
       "    table.eli5-weights tr:hover {\n",
       "        filter: brightness(85%);\n",
       "    }\n",
       "</style>\n",
       "\n",
       "\n",
       "\n",
       "    \n",
       "\n",
       "    \n",
       "\n",
       "    \n",
       "\n",
       "    \n",
       "\n",
       "    \n",
       "\n",
       "    \n",
       "\n",
       "\n",
       "    \n",
       "\n",
       "    \n",
       "\n",
       "    \n",
       "\n",
       "    \n",
       "        \n",
       "\n",
       "    \n",
       "\n",
       "        \n",
       "            \n",
       "                \n",
       "                \n",
       "    \n",
       "        <p style=\"margin-bottom: 0.5em; margin-top: 0em\">\n",
       "            <b>\n",
       "    \n",
       "        y\n",
       "    \n",
       "</b>\n",
       "\n",
       "top features\n",
       "        </p>\n",
       "    \n",
       "    <table class=\"eli5-weights\"\n",
       "           style=\"border-collapse: collapse; border: none; margin-top: 0em; table-layout: auto; margin-bottom: 2em;\">\n",
       "        <thead>\n",
       "        <tr style=\"border: none;\">\n",
       "            \n",
       "                <th style=\"padding: 0 1em 0 0.5em; text-align: right; border: none;\" title=\"Feature weights. Note that weights do not account for feature value scales, so if feature values have different scales, features with highest weights might not be the most important.\">\n",
       "                    Weight<sup>?</sup>\n",
       "                </th>\n",
       "            \n",
       "            <th style=\"padding: 0 0.5em 0 0.5em; text-align: left; border: none;\">Feature</th>\n",
       "            \n",
       "        </tr>\n",
       "        </thead>\n",
       "        <tbody>\n",
       "        \n",
       "            <tr style=\"background-color: hsl(120, 100.00%, 80.00%); border: none;\">\n",
       "    <td style=\"padding: 0 1em 0 0.5em; text-align: right; border: none;\">\n",
       "        +1979.464\n",
       "    </td>\n",
       "    <td style=\"padding: 0 0.5em 0 0.5em; text-align: left; border: none;\">\n",
       "        &lt;BIAS&gt;\n",
       "    </td>\n",
       "    \n",
       "</tr>\n",
       "        \n",
       "            <tr style=\"background-color: hsl(120, 100.00%, 91.66%); border: none;\">\n",
       "    <td style=\"padding: 0 1em 0 0.5em; text-align: right; border: none;\">\n",
       "        +567.288\n",
       "    </td>\n",
       "    <td style=\"padding: 0 0.5em 0 0.5em; text-align: left; border: none;\">\n",
       "        capital\n",
       "    </td>\n",
       "    \n",
       "</tr>\n",
       "        \n",
       "            <tr style=\"background-color: hsl(120, 100.00%, 94.77%); border: none;\">\n",
       "    <td style=\"padding: 0 1em 0 0.5em; text-align: right; border: none;\">\n",
       "        +291.047\n",
       "    </td>\n",
       "    <td style=\"padding: 0 0.5em 0 0.5em; text-align: left; border: none;\">\n",
       "        invest\n",
       "    </td>\n",
       "    \n",
       "</tr>\n",
       "        \n",
       "        \n",
       "\n",
       "        \n",
       "        \n",
       "            <tr style=\"background-color: hsl(0, 100.00%, 88.93%); border: none;\">\n",
       "    <td style=\"padding: 0 1em 0 0.5em; text-align: right; border: none;\">\n",
       "        -850.644\n",
       "    </td>\n",
       "    <td style=\"padding: 0 0.5em 0 0.5em; text-align: left; border: none;\">\n",
       "        year\n",
       "    </td>\n",
       "    \n",
       "</tr>\n",
       "        \n",
       "\n",
       "        </tbody>\n",
       "    </table>\n",
       "\n",
       "            \n",
       "        \n",
       "\n",
       "        \n",
       "\n",
       "\n",
       "\n",
       "    \n",
       "\n",
       "    \n",
       "\n",
       "    \n",
       "\n",
       "    \n",
       "\n",
       "\n",
       "    \n",
       "\n",
       "    \n",
       "\n",
       "    \n",
       "\n",
       "    \n",
       "\n",
       "    \n",
       "\n",
       "    \n",
       "\n",
       "\n",
       "    \n",
       "\n",
       "    \n",
       "\n",
       "    \n",
       "\n",
       "    \n",
       "\n",
       "    \n",
       "\n",
       "    \n",
       "\n",
       "\n",
       "\n"
      ],
      "text/plain": [
       "<IPython.core.display.HTML object>"
      ]
     },
     "metadata": {},
     "output_type": "display_data"
    }
   ],
   "source": [
    "for model in models:\n",
    "    num_features, cat_features = divide_features(model.X)\n",
    "    log.info(\"Global explanation of {}.\".format(model.name))\n",
    "    display(interpret_model(model.model, num_features, cat_features))"
   ]
  },
  {
   "cell_type": "markdown",
   "metadata": {},
   "source": [
    "Interpret a single example locally with LIME."
   ]
  },
  {
   "cell_type": "code",
   "execution_count": null,
   "metadata": {},
   "outputs": [],
   "source": [
    "for i in range(3):\n",
    "    rand = random.randrange(100)\n",
    "    for model in models:\n",
    "        log.info(\"Local explanation for {}.\".format(model.name))\n",
    "        explanation = explain_single_instance(model.model, model.X, model.y, rand)\n",
    "        explanation.show_in_notebook(show_table=True, show_all=True)"
   ]
  },
  {
   "cell_type": "code",
   "execution_count": null,
   "metadata": {
    "scrolled": true
   },
   "outputs": [],
   "source": [
    "\n",
    "prediction = []\n",
    "modelw = None\n",
    "for model in models:\n",
    "    modelw = model\n",
    "    prediction = model.model.predict(model.X_test)\n",
    "    \n",
    "df_new_test = modelw.X_test\n",
    "df_new_test['new_cases'] = modelw.y_test\n",
    "df_new_test['predicted_new_cases'] = prediction\n",
    "df_new_test.sort_index(inplace=True)\n",
    "\n",
    "display(df_new_test)"
   ]
  },
  {
   "cell_type": "markdown",
   "metadata": {},
   "source": [
    "..."
   ]
  }
 ],
 "metadata": {
  "kernelspec": {
   "display_name": "Python 3",
   "language": "python",
   "name": "python3"
  },
  "language_info": {
   "codemirror_mode": {
    "name": "ipython",
    "version": 3
   },
   "file_extension": ".py",
   "mimetype": "text/x-python",
   "name": "python",
   "nbconvert_exporter": "python",
   "pygments_lexer": "ipython3",
   "version": "3.8.2"
  }
 },
 "nbformat": 4,
 "nbformat_minor": 2
}
