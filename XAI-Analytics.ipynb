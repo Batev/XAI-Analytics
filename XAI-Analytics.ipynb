{
 "cells": [
  {
   "cell_type": "markdown",
   "metadata": {},
   "source": [
    "# XAI Analytics Notebook"
   ]
  },
  {
   "cell_type": "code",
   "execution_count": 1,
   "metadata": {},
   "outputs": [
    {
     "name": "stderr",
     "output_type": "stream",
     "text": [
      "c:\\projects\\private\\python\\github\\xai-analytics\\xai-analytics\\lib\\site-packages\\sklearn\\utils\\deprecation.py:144: FutureWarning: The sklearn.metrics.scorer module is  deprecated in version 0.22 and will be removed in version 0.24. The corresponding classes / functions should instead be imported from sklearn.metrics. Anything that cannot be imported from sklearn.metrics is now part of the private API.\n",
      "  warnings.warn(message, FutureWarning)\n",
      "c:\\projects\\private\\python\\github\\xai-analytics\\xai-analytics\\lib\\site-packages\\sklearn\\utils\\deprecation.py:144: FutureWarning: The sklearn.feature_selection.base module is  deprecated in version 0.22 and will be removed in version 0.24. The corresponding classes / functions should instead be imported from sklearn.feature_selection. Anything that cannot be imported from sklearn.feature_selection is now part of the private API.\n",
      "  warnings.warn(message, FutureWarning)\n"
     ]
    }
   ],
   "source": [
    "import os\n",
    "import xai\n",
    "import logging as log \n",
    "import ipywidgets as widgets\n",
    "import util.commons\n",
    "import eli5\n",
    "import random\n",
    "\n",
    "from xai import imbalance_plot\n",
    "from datetime import date\n",
    "from util.commons import *\n",
    "from util.ui import *\n",
    "from util.model import *\n",
    "from util.split import *\n",
    "from util.dataset import *\n",
    "from ipywidgets import interact, interact_manual, interactive, interactive_output\n",
    "from ipywidgets import Button, GridBox, Layout, ButtonStyle, Label\n",
    "from IPython.display import clear_output"
   ]
  },
  {
   "cell_type": "markdown",
   "metadata": {},
   "source": [
    "Select the dataset that you would like to invastigate later with the help of the available interpretability tools."
   ]
  },
  {
   "cell_type": "code",
   "execution_count": 2,
   "metadata": {},
   "outputs": [
    {
     "data": {
      "application/vnd.jupyter.widget-view+json": {
       "model_id": "82fd996605d54e5db4cfd75d8335b6e1",
       "version_major": 2,
       "version_minor": 0
      },
      "text/plain": [
       "Label(value='Select a dataset (you can specify custom one by selecting other):', layout=Layout(height='auto', …"
      ]
     },
     "metadata": {},
     "output_type": "display_data"
    },
    {
     "data": {
      "application/vnd.jupyter.widget-view+json": {
       "model_id": "404d09c477bd41ee8d46e3976c3e58de",
       "version_major": 2,
       "version_minor": 0
      },
      "text/plain": [
       "Dropdown(layout=Layout(height='auto', width='200px'), options=('anes96', 'cancer', 'ccard', 'china_smoking', '…"
      ]
     },
     "metadata": {},
     "output_type": "display_data"
    },
    {
     "data": {
      "application/vnd.jupyter.widget-view+json": {
       "model_id": "3d61774fbb984f4a8293acfc98914e33",
       "version_major": 2,
       "version_minor": 0
      },
      "text/plain": [
       "Label(value='Provide dataset name and URL:')"
      ]
     },
     "metadata": {},
     "output_type": "display_data"
    },
    {
     "data": {
      "application/vnd.jupyter.widget-view+json": {
       "model_id": "115f1c95383e4dbb978bf70d7da1b2f3",
       "version_major": 2,
       "version_minor": 0
      },
      "text/plain": [
       "Text(value='', description='Name: ', disabled=True, placeholder='e.g. Car Evaluation Data Set')"
      ]
     },
     "metadata": {},
     "output_type": "display_data"
    },
    {
     "data": {
      "application/vnd.jupyter.widget-view+json": {
       "model_id": "591644e41064403a85cd0562035d5d96",
       "version_major": 2,
       "version_minor": 0
      },
      "text/plain": [
       "Text(value='', description='URL: ', disabled=True, placeholder='e.g. https://archive.ics.uci.edu/ml/machine-le…"
      ]
     },
     "metadata": {},
     "output_type": "display_data"
    },
    {
     "data": {
      "application/vnd.jupyter.widget-view+json": {
       "model_id": "07fa12d1fe99452c88ca0ff5de906601",
       "version_major": 2,
       "version_minor": 0
      },
      "text/plain": [
       "Button(description='Download dataset', disabled=True, icon='download', layout=Layout(height='auto', width='300…"
      ]
     },
     "metadata": {},
     "output_type": "display_data"
    },
    {
     "data": {
      "application/vnd.jupyter.widget-view+json": {
       "model_id": "ae80a4650bda42f9870fc2da6bbe1f67",
       "version_major": 2,
       "version_minor": 0
      },
      "text/plain": [
       "Output()"
      ]
     },
     "metadata": {},
     "output_type": "display_data"
    },
    {
     "name": "stderr",
     "output_type": "stream",
     "text": [
      "26-Apr-20 16:57:50 - Dataset 'census (Adult census dataset)' loaded successfully. For further information about this dataset please visit: https://ethicalml.github.io/xai/index.html?highlight=load_census#xai.data.load_census\n",
      "26-Apr-20 16:57:50 - \n",
      "   age          workclass   education  education-num       marital-status  \\\n",
      "0   39          State-gov   Bachelors             13        Never-married   \n",
      "1   50   Self-emp-not-inc   Bachelors             13   Married-civ-spouse   \n",
      "2   38            Private     HS-grad              9             Divorced   \n",
      "3   53            Private        11th              7   Married-civ-spouse   \n",
      "4   28            Private   Bachelors             13   Married-civ-spouse   \n",
      "\n",
      "           occupation    relationship ethnicity   gender  capital-gain  \\\n",
      "0        Adm-clerical   Not-in-family     White     Male          2174   \n",
      "1     Exec-managerial         Husband     White     Male             0   \n",
      "2   Handlers-cleaners   Not-in-family     White     Male             0   \n",
      "3   Handlers-cleaners         Husband     Black     Male             0   \n",
      "4      Prof-specialty            Wife     Black   Female             0   \n",
      "\n",
      "   capital-loss  hours-per-week    loan  \n",
      "0             0              40   <=50K  \n",
      "1             0              13   <=50K  \n",
      "2             0              40   <=50K  \n",
      "3             0              40   <=50K  \n",
      "4             0              40   <=50K  \n"
     ]
    }
   ],
   "source": [
    "dataset_select_label = Label(layout=Layout(width='auto', height='auto'), value='Select a dataset (you can specify custom one by selecting other):')\n",
    "dataset_select_dropdown = widgets.Dropdown(options=[m.name for m in Datasets], value=None, layout=Layout(width='200px', height='auto'))\n",
    "name_url_text_label = Label(value='Provide dataset name and URL:')\n",
    "name_text = widgets.Text(description='Name: ', placeholder='e.g. Car Evaluation Data Set', disabled=True)\n",
    "url_text = widgets.Text(description='URL: ', placeholder='e.g. https://archive.ics.uci.edu/ml/machine-learning-databases/car/car.data', disabled=True)\n",
    "dataset_select_button = widgets.Button(description='Download dataset', layout=Layout(width='300px', height='auto'), style=ButtonStyle(button_color='green'), tooltip='Click me', icon='download', disabled=True)\n",
    "dataset_select_output = widgets.Output()\n",
    "\n",
    "display(dataset_select_label,\n",
    "        dataset_select_dropdown,\n",
    "        name_url_text_label,\n",
    "        name_text,\n",
    "        url_text,\n",
    "        dataset_select_button,\n",
    "        dataset_select_output)\n",
    "\n",
    "def on_value_change_dataset_select_dropdown(change):\n",
    "    dataset_select_output.clear_output()\n",
    "    global dataset\n",
    "    new_value = str(change['new'])\n",
    "    if new_value == 'other':\n",
    "        name_text.disabled=False\n",
    "        url_text.disabled=False\n",
    "        dataset_select_button.disabled=False\n",
    "    else:\n",
    "        name_text.disabled=True\n",
    "        url_text.disabled=True\n",
    "        dataset_select_button.disabled=True\n",
    "        dataset, msg = get_dataset(new_value)\n",
    "        with dataset_select_output:\n",
    "            display(msg)\n",
    "            \n",
    "def on_click_dataset_select_button(self):\n",
    "    dataset_select_output.clear_output()\n",
    "    global dataset\n",
    "    name = str(name_text.value)\n",
    "    url = str(url_text.value)\n",
    "    dataset, msg = get_dataset(name, url)\n",
    "    with dataset_select_output:\n",
    "        display(msg)\n",
    "\n",
    "dataset_select_dropdown.observe(on_value_change_dataset_select_dropdown, names='value')\n",
    "dataset_select_button.on_click(on_click_dataset_select_button)\n",
    "\n",
    "# Delete lines after this comment\n",
    "dataset, msg = get_dataset('census')"
   ]
  },
  {
   "cell_type": "code",
   "execution_count": 3,
   "metadata": {
    "scrolled": true
   },
   "outputs": [
    {
     "data": {
      "application/vnd.jupyter.widget-view+json": {
       "model_id": "8633cd5c45fc4981be6d35ee67df72ef",
       "version_major": 2,
       "version_minor": 0
      },
      "text/plain": [
       "HBox(children=(Button(icon='undo', layout=Layout(height='auto', width='auto'), style=ButtonStyle(button_color=…"
      ]
     },
     "metadata": {},
     "output_type": "display_data"
    },
    {
     "data": {
      "application/vnd.jupyter.widget-view+json": {
       "model_id": "858ed323137449fc91b223c41c5f0df5",
       "version_major": 2,
       "version_minor": 0
      },
      "text/plain": [
       "Label(value='Strip a column from the dataset:', layout=Layout(height='auto', width='auto'))"
      ]
     },
     "metadata": {},
     "output_type": "display_data"
    },
    {
     "data": {
      "application/vnd.jupyter.widget-view+json": {
       "model_id": "692357073da345738ffa050947b1e57f",
       "version_major": 2,
       "version_minor": 0
      },
      "text/plain": [
       "Dropdown(layout=Layout(height='auto', width='220px'), options=('age', 'workclass', 'education', 'education-num…"
      ]
     },
     "metadata": {},
     "output_type": "display_data"
    },
    {
     "data": {
      "application/vnd.jupyter.widget-view+json": {
       "model_id": "955b808e2b224689b16b37c34cca8ecb",
       "version_major": 2,
       "version_minor": 0
      },
      "text/plain": [
       "Output()"
      ]
     },
     "metadata": {},
     "output_type": "display_data"
    }
   ],
   "source": [
    "from pandas.api.types import is_numeric_dtype, is_string_dtype\n",
    "\n",
    "strip_column_select_label = Label(layout=Layout(width='auto', height='auto'), value='Strip a column from the dataset:')\n",
    "strip_column_select_dropdown = widgets.Dropdown(options=list(dataset.df.columns), value=None, layout=Layout(width='220px', height='auto'))\n",
    "strip_button = widgets.Button(disabled=False, style=ButtonStyle(button_color='yellow'), tooltip='Strips everything except the selected value.', icon='bolt', layout=Layout(width='max-content', height='auto'))\n",
    "strip_column_output = widgets.Output()\n",
    "strip_column_output_inner = widgets.Output()\n",
    "\n",
    "# back up initial dataset\n",
    "df_backup = dataset.df\n",
    "\n",
    "#defaults for the cell\n",
    "eq_value = '='\n",
    "df_stripped = None\n",
    "\n",
    "def on_value_change_strip_column_select_dropdown(change):\n",
    "    strip_column_output.clear_output()\n",
    "    strip_column_output_inner.clear_output()\n",
    "    strip_button.description = ''\n",
    "    new_value = str(change['new'])\n",
    "    if is_numeric_dtype(dataset.df[new_value]):\n",
    "        eq_radio = init_strip_eq_radio(on_value_change_eq_radio)\n",
    "        min_val, max_val, step=calculate_slider_properties(dataset.df[new_value].unique())\n",
    "        value_slider = init_strip_value_slider(on_value_change_value_slider, min_val, max_val, step)\n",
    "        with strip_column_output:\n",
    "            display(eq_radio, value_slider, strip_button, strip_column_output_inner)\n",
    "    elif is_string_dtype(dataset.df[new_value]):\n",
    "        value_select_dropdown = init_strip_value_select_dropdown(on_value_change_value_select_dropdown, list(dataset.df[new_value].unique()))\n",
    "        with strip_column_output:\n",
    "            display(value_select_dropdown, strip_button, strip_column_output_inner)\n",
    "            \n",
    "def on_value_change_value_select_dropdown(change):\n",
    "    strip_column_output_inner.clear_output()\n",
    "    global df_stripped\n",
    "    new_value = str(change['new'])\n",
    "    with strip_column_output_inner:\n",
    "        strip_button.description='{} \\'{}\\''.format(strip_column_select_dropdown.value, new_value)\n",
    "        df_stripped = get_stripped_df(dataset.df, strip_column_select_dropdown.value, new_value)\n",
    "        display(df_stripped)\n",
    "\n",
    "def on_value_change_value_slider(change):\n",
    "    strip_column_output_inner.clear_output()\n",
    "    global df_stripped\n",
    "    new_value = float(str(change['new']))    \n",
    "    with strip_column_output_inner:\n",
    "        strip_button.description='{} {} \\'{}\\''.format(strip_column_select_dropdown.value, eq_value, new_value)\n",
    "        df_stripped = get_stripped_df(dataset.df, strip_column_select_dropdown.value, new_value, eq_value)\n",
    "        display(df_stripped)\n",
    "\n",
    "def on_value_change_eq_radio(change):\n",
    "    global eq_value\n",
    "    eq_value = str(change['new'])\n",
    "            \n",
    "def on_click_strip_button(self):\n",
    "    strip_column_output.clear_output()\n",
    "    global stack_label, df_stripped\n",
    "    dataset.df = df_stripped\n",
    "    dataset.df.reset_index(drop=True, inplace=True)\n",
    "    stack_label.value = stack_label.value + strip_button.description + ', ' \n",
    "    with strip_column_output:\n",
    "        display('{} selected successfully.'.format(strip_button.description), dataset.df)\n",
    "    \n",
    "def on_click_reset_button(self):\n",
    "    strip_column_output.clear_output()\n",
    "    dataset.df = df_backup\n",
    "    dataset.df.reset_index(drop=True, inplace=True)\n",
    "    global stack_label\n",
    "    stack_label.value = 'Stripped columns for the dataset: '\n",
    "    with strip_column_output:\n",
    "        display('Dataset restored to its initial state.', dataset.df)\n",
    "\n",
    "hbox = generate_reset_strip_hbox(on_click_reset_button)\n",
    "stack_label = get_reset_strip_hbox_label(hbox)\n",
    "    \n",
    "strip_column_select_dropdown.observe(on_value_change_strip_column_select_dropdown, names='value')\n",
    "strip_button.on_click(on_click_strip_button)\n",
    "\n",
    "display(hbox, strip_column_select_label, strip_column_select_dropdown, strip_column_output)"
   ]
  },
  {
   "cell_type": "markdown",
   "metadata": {},
   "source": [
    "Analyze dataset with the XAI toolset."
   ]
  },
  {
   "cell_type": "code",
   "execution_count": 4,
   "metadata": {
    "scrolled": true
   },
   "outputs": [
    {
     "data": {
      "application/vnd.jupyter.widget-view+json": {
       "model_id": "fab60aa616bf4d4f9091445784ae881b",
       "version_major": 2,
       "version_minor": 0
      },
      "text/plain": [
       "GridBox(children=(Label(value='Features to analyze: ', layout=Layout(height='auto', width='auto')), Button(dis…"
      ]
     },
     "metadata": {},
     "output_type": "display_data"
    },
    {
     "data": {
      "application/vnd.jupyter.widget-view+json": {
       "model_id": "97738505fcc449489e4ed50f09b915d6",
       "version_major": 2,
       "version_minor": 0
      },
      "text/plain": [
       "Output()"
      ]
     },
     "metadata": {},
     "output_type": "display_data"
    }
   ],
   "source": [
    "show_imbalance_selectmultiple = widgets.SelectMultiple(options=list(dataset.df.columns), rows=len(list(dataset.df.columns)) if len(list(dataset.df.columns)) <= 20 else 20, layout=Layout(width='auto', height='auto'))\n",
    "show_imbalance_button = widgets.Button(description='Show imbalances', layout=Layout(width='auto', height='auto'), button_style='info', tooltip='Click me', icon='cubes')\n",
    "correlations_matrix_button = Button(description='Correlations as a hierarchical dendogram', tooltip='Click me', icon='sitemap', layout=Layout(width='auto', height='auto'), disabled=False, style=ButtonStyle(button_color='darkseagreen'))\n",
    "correlations_dendogram_button = Button(description='Correlations as a matrix', tooltip='Click me', icon='th-large', layout=Layout(width='auto', height='auto'), disabled=False, style=ButtonStyle(button_color='orange'))\n",
    "show_imbalance_output = widgets.Output()\n",
    "\n",
    "def on_click_show_imbalance_button(self):\n",
    "    show_imbalance_output.clear_output()\n",
    "    features_to_analyze = list(show_imbalance_selectmultiple.value)\n",
    "    with show_imbalance_output:\n",
    "        xai.imbalance_plot(dataset.df, *features_to_analyze)\n",
    "        \n",
    "def on_click_correlations_matrix_button(self):\n",
    "    show_imbalance_output.clear_output()\n",
    "    with show_imbalance_output:\n",
    "        display(xai.correlations(dataset.df, include_categorical=True, plot_type=\"matrix\"))\n",
    "        \n",
    "def on_click_correlations_dendogram_button(self):\n",
    "    show_imbalance_output.clear_output()\n",
    "    with show_imbalance_output:\n",
    "        display(xai.correlations(dataset.df, include_categorical=True))\n",
    "\n",
    "show_imbalance_button.on_click(on_click_show_imbalance_button)\n",
    "correlations_matrix_button.on_click(on_click_correlations_matrix_button)\n",
    "correlations_dendogram_button.on_click(on_click_correlations_dendogram_button)\n",
    "\n",
    "grid_box = generate_analyze_grid(show_imbalance_selectmultiple,\n",
    "                                 show_imbalance_button,\n",
    "                                 correlations_dendogram_button,\n",
    "                                 correlations_matrix_button)\n",
    "\n",
    "display(grid_box, show_imbalance_output)"
   ]
  },
  {
   "cell_type": "markdown",
   "metadata": {},
   "source": [
    "Select a target and the number of models to be trained, analyzed and compared."
   ]
  },
  {
   "cell_type": "code",
   "execution_count": 5,
   "metadata": {},
   "outputs": [
    {
     "data": {
      "application/vnd.jupyter.widget-view+json": {
       "model_id": "c1a927de33aa475383cc4b1720efcaf4",
       "version_major": 2,
       "version_minor": 0
      },
      "text/plain": [
       "Dropdown(options=('age', 'workclass', 'education', 'education-num', 'marital-status', 'occupation', 'relations…"
      ]
     },
     "metadata": {},
     "output_type": "display_data"
    },
    {
     "data": {
      "application/vnd.jupyter.widget-view+json": {
       "model_id": "71e18c9faac24d57b3ba81ba7a2f0514",
       "version_major": 2,
       "version_minor": 0
      },
      "text/plain": [
       "Button(button_style='success', description='Select target', icon='mouse-pointer', style=ButtonStyle(), tooltip…"
      ]
     },
     "metadata": {},
     "output_type": "display_data"
    },
    {
     "data": {
      "application/vnd.jupyter.widget-view+json": {
       "model_id": "d05b9e20f420404dabd605fe806d0a35",
       "version_major": 2,
       "version_minor": 0
      },
      "text/plain": [
       "Output()"
      ]
     },
     "metadata": {},
     "output_type": "display_data"
    },
    {
     "name": "stderr",
     "output_type": "stream",
     "text": [
      "26-Apr-20 16:57:51 - Target 'loan' selected successfully.\n"
     ]
    }
   ],
   "source": [
    "target_dropdown = widgets.Dropdown(options=list(dataset.df.columns), value=None, disabled=False)\n",
    "target_select_button = widgets.Button(description='Select target', disabled=False, button_style='success', tooltip='Click me', icon='mouse-pointer')\n",
    "target_output = widgets.Output()\n",
    "\n",
    "display(target_dropdown, target_select_button, target_output)\n",
    "\n",
    "def on_value_change_target_dropdown(change):\n",
    "    target_output.clear_output()\n",
    "    df_target, msg = show_target(dataset.df, change['new'])\n",
    "    with target_output:\n",
    "        display(df_target)\n",
    "\n",
    "def on_click_target_select_button(slef):\n",
    "    target_output.clear_output()\n",
    "    global df_X, df_y\n",
    "    df_X, df_y, msg = split_feature_target(dataset.df, target_dropdown.value)\n",
    "    with target_output:\n",
    "        display(msg)\n",
    "\n",
    "target_dropdown.observe(on_value_change_target_dropdown, names='value')\n",
    "target_select_button.on_click(on_click_target_select_button)\n",
    "\n",
    "# Delete lines after this comment\n",
    "df_X, df_y, msg = split_feature_target(dataset.df, \"loan\")"
   ]
  },
  {
   "cell_type": "markdown",
   "metadata": {},
   "source": [
    "Train a model by selecting its properties. _Hover the mouse over the description of a property in order to get more information about it._"
   ]
  },
  {
   "cell_type": "code",
   "execution_count": 6,
   "metadata": {
    "scrolled": true
   },
   "outputs": [
    {
     "data": {
      "application/vnd.jupyter.widget-view+json": {
       "model_id": "f2863905b9e8456ea86385629dcf321b",
       "version_major": 2,
       "version_minor": 0
      },
      "text/plain": [
       "Label(value='Choose the number of models to be used: ', layout=Layout(height='auto', width='auto'))"
      ]
     },
     "metadata": {},
     "output_type": "display_data"
    },
    {
     "data": {
      "application/vnd.jupyter.widget-view+json": {
       "model_id": "0a663fc4366c421ba4e7712447944461",
       "version_major": 2,
       "version_minor": 0
      },
      "text/plain": [
       "IntSlider(value=1, continuous_update=False, max=8, min=1)"
      ]
     },
     "metadata": {},
     "output_type": "display_data"
    },
    {
     "data": {
      "application/vnd.jupyter.widget-view+json": {
       "model_id": "b7aab08f4c9a4385a2fa2f3a7b61645b",
       "version_major": 2,
       "version_minor": 0
      },
      "text/plain": [
       "Output()"
      ]
     },
     "metadata": {},
     "output_type": "display_data"
    }
   ],
   "source": [
    "models_label = Label(layout=Layout(width='auto', height='auto'), value='Choose the number of models to be used: ')\n",
    "models_slider = widgets.IntSlider(value=1, min=1, max=8, step=1, disabled=False, continuous_update=False, orientation='horizontal', readout=True, readout_format='d')\n",
    "models_output = widgets.Output()\n",
    "\n",
    "def draw_grid():\n",
    "    display(generate_model_grid(\n",
    "        df_X,\n",
    "        number_of_models,\n",
    "        models,\n",
    "        on_click_feature_exclude_button=on_click_feature_exclude_button,\n",
    "        on_value_change_split_type_dropdown=on_value_change_split_type_dropdown,\n",
    "        on_click_model_train_button=on_click_model_train_button))\n",
    "\n",
    "def on_value_change_models_slider(change):\n",
    "    models_output.clear_output()\n",
    "    global number_of_models, models\n",
    "    number_of_models = change['new']\n",
    "    models, _ = fill_empty_models(df_X, df_y, number_of_models)\n",
    "    with models_output:\n",
    "        draw_grid()\n",
    "\n",
    "models_slider.observe(on_value_change_models_slider, names='value')\n",
    "display(models_label, models_slider, models_output)\n",
    "\n",
    "def on_value_change_split_type_dropdown(change):\n",
    "    model = get_model_by_split_type_dd(models, change['owner'])\n",
    "    _ = change_cross_columns_status(model, change['new'])\n",
    "\n",
    "def on_click_feature_exclude_button(self):\n",
    "    models_output.clear_output()\n",
    "    model = get_model_by_remove_features_button(models, self)\n",
    "    msg = remove_model_features(model)\n",
    "    with models_output:\n",
    "        draw_grid()\n",
    "\n",
    "def on_click_model_train_button(self):\n",
    "    model = get_model_by_train_model_button(models, self)\n",
    "    msg = fill_model(model)\n",
    "    with models_output:\n",
    "        display(msg)\n",
    "\n",
    "# initially show only one model\n",
    "with models_output:\n",
    "    number_of_models = 1\n",
    "    models, _ = fill_empty_models(df_X, df_y, number_of_models)\n",
    "    draw_grid()"
   ]
  },
  {
   "cell_type": "code",
   "execution_count": null,
   "metadata": {},
   "outputs": [
    {
     "name": "stderr",
     "output_type": "stream",
     "text": [
      "26-Apr-20 16:57:51 - Loaded backend module://ipykernel.pylab.backend_inline version unknown.\n",
      "26-Apr-20 16:57:51 - Loaded backend agg version unknown.\n"
     ]
    },
    {
     "name": "stdout",
     "output_type": "stream",
     "text": [
      ".. _breast_cancer_dataset:\n",
      "\n",
      "Breast cancer wisconsin (diagnostic) dataset\n",
      "--------------------------------------------\n",
      "\n",
      "**Data Set Characteristics:**\n",
      "\n",
      "    :Number of Instances: 569\n",
      "\n",
      "    :Number of Attributes: 30 numeric, predictive attributes and the class\n",
      "\n",
      "    :Attribute Information:\n",
      "        - radius (mean of distances from center to points on the perimeter)\n",
      "        - texture (standard deviation of gray-scale values)\n",
      "        - perimeter\n",
      "        - area\n",
      "        - smoothness (local variation in radius lengths)\n",
      "        - compactness (perimeter^2 / area - 1.0)\n",
      "        - concavity (severity of concave portions of the contour)\n",
      "        - concave points (number of concave portions of the contour)\n",
      "        - symmetry \n",
      "        - fractal dimension (\"coastline approximation\" - 1)\n",
      "\n",
      "        The mean, standard error, and \"worst\" or largest (mean of the three\n",
      "        largest values) of these features were computed for each image,\n",
      "        resulting in 30 features.  For instance, field 3 is Mean Radius, field\n",
      "        13 is Radius SE, field 23 is Worst Radius.\n",
      "\n",
      "        - class:\n",
      "                - WDBC-Malignant\n",
      "                - WDBC-Benign\n",
      "\n",
      "    :Summary Statistics:\n",
      "\n",
      "    ===================================== ====== ======\n",
      "                                           Min    Max\n",
      "    ===================================== ====== ======\n",
      "    radius (mean):                        6.981  28.11\n",
      "    texture (mean):                       9.71   39.28\n",
      "    perimeter (mean):                     43.79  188.5\n",
      "    area (mean):                          143.5  2501.0\n",
      "    smoothness (mean):                    0.053  0.163\n",
      "    compactness (mean):                   0.019  0.345\n",
      "    concavity (mean):                     0.0    0.427\n",
      "    concave points (mean):                0.0    0.201\n",
      "    symmetry (mean):                      0.106  0.304\n",
      "    fractal dimension (mean):             0.05   0.097\n",
      "    radius (standard error):              0.112  2.873\n",
      "    texture (standard error):             0.36   4.885\n",
      "    perimeter (standard error):           0.757  21.98\n",
      "    area (standard error):                6.802  542.2\n",
      "    smoothness (standard error):          0.002  0.031\n",
      "    compactness (standard error):         0.002  0.135\n",
      "    concavity (standard error):           0.0    0.396\n",
      "    concave points (standard error):      0.0    0.053\n",
      "    symmetry (standard error):            0.008  0.079\n",
      "    fractal dimension (standard error):   0.001  0.03\n",
      "    radius (worst):                       7.93   36.04\n",
      "    texture (worst):                      12.02  49.54\n",
      "    perimeter (worst):                    50.41  251.2\n",
      "    area (worst):                         185.2  4254.0\n",
      "    smoothness (worst):                   0.071  0.223\n",
      "    compactness (worst):                  0.027  1.058\n",
      "    concavity (worst):                    0.0    1.252\n",
      "    concave points (worst):               0.0    0.291\n",
      "    symmetry (worst):                     0.156  0.664\n",
      "    fractal dimension (worst):            0.055  0.208\n",
      "    ===================================== ====== ======\n",
      "\n",
      "    :Missing Attribute Values: None\n",
      "\n",
      "    :Class Distribution: 212 - Malignant, 357 - Benign\n",
      "\n",
      "    :Creator:  Dr. William H. Wolberg, W. Nick Street, Olvi L. Mangasarian\n",
      "\n",
      "    :Donor: Nick Street\n",
      "\n",
      "    :Date: November, 1995\n",
      "\n",
      "This is a copy of UCI ML Breast Cancer Wisconsin (Diagnostic) datasets.\n",
      "https://goo.gl/U2Uwz2\n",
      "\n",
      "Features are computed from a digitized image of a fine needle\n",
      "aspirate (FNA) of a breast mass.  They describe\n",
      "characteristics of the cell nuclei present in the image.\n",
      "\n",
      "Separating plane described above was obtained using\n",
      "Multisurface Method-Tree (MSM-T) [K. P. Bennett, \"Decision Tree\n",
      "Construction Via Linear Programming.\" Proceedings of the 4th\n",
      "Midwest Artificial Intelligence and Cognitive Science Society,\n",
      "pp. 97-101, 1992], a classification method which uses linear\n",
      "programming to construct a decision tree.  Relevant features\n",
      "were selected using an exhaustive search in the space of 1-4\n",
      "features and 1-3 separating planes.\n",
      "\n",
      "The actual linear program used to obtain the separating plane\n",
      "in the 3-dimensional space is that described in:\n",
      "[K. P. Bennett and O. L. Mangasarian: \"Robust Linear\n",
      "Programming Discrimination of Two Linearly Inseparable Sets\",\n",
      "Optimization Methods and Software 1, 1992, 23-34].\n",
      "\n",
      "This database is also available through the UW CS ftp server:\n",
      "\n",
      "ftp ftp.cs.wisc.edu\n",
      "cd math-prog/cpo-dataset/machine-learn/WDBC/\n",
      "\n",
      ".. topic:: References\n",
      "\n",
      "   - W.N. Street, W.H. Wolberg and O.L. Mangasarian. Nuclear feature extraction \n",
      "     for breast tumor diagnosis. IS&T/SPIE 1993 International Symposium on \n",
      "     Electronic Imaging: Science and Technology, volume 1905, pages 861-870,\n",
      "     San Jose, CA, 1993.\n",
      "   - O.L. Mangasarian, W.N. Street and W.H. Wolberg. Breast cancer diagnosis and \n",
      "     prognosis via linear programming. Operations Research, 43(4), pages 570-577, \n",
      "     July-August 1995.\n",
      "   - W.H. Wolberg, W.N. Street, and O.L. Mangasarian. Machine learning techniques\n",
      "     to diagnose breast cancer from fine-needle aspirates. Cancer Letters 77 (1994) \n",
      "     163-171.\n"
     ]
    },
    {
     "name": "stderr",
     "output_type": "stream",
     "text": [
      "2020-04-26 16:57:52,749 - skater.core.explanations - WARNING - Progress bars slow down runs by 10-20%. For slightly \n",
      "faster runs, do progress_bar=False\n"
     ]
    }
   ],
   "source": [
    "kur\n",
    "%matplotlib inline\n",
    "import matplotlib.pyplot as plt\n",
    "import pandas as pd\n",
    "# Reference for customizing matplotlib: https://matplotlib.org/users/style_sheets.html\n",
    "plt.style.use('ggplot')\n",
    "\n",
    "from sklearn.datasets import load_breast_cancer\n",
    "from sklearn.model_selection import train_test_split\n",
    "from sklearn.linear_model import LogisticRegression\n",
    "from sklearn.naive_bayes import GaussianNB\n",
    "from sklearn.ensemble import RandomForestClassifier, VotingClassifier\n",
    "\n",
    "from skater.core.explanations import Interpretation\n",
    "from skater.model import InMemoryModel\n",
    "\n",
    "data = load_breast_cancer()\n",
    "# Description of the data\n",
    "print(data.DESCR)\n",
    "\n",
    "pd.DataFrame(data.target_names)\n",
    "\n",
    "X = data.data\n",
    "y = data.target\n",
    "X_train, X_test, y_train, y_test = train_test_split(X, y, test_size = .2)\n",
    "\n",
    "clf1 = LogisticRegression(random_state=1)\n",
    "clf2 = RandomForestClassifier(random_state=1)\n",
    "clf3 = GaussianNB()\n",
    "\n",
    "eclf = VotingClassifier(estimators=[('lr', clf1), ('rf', clf2), ('gnb', clf3)], voting='soft')\n",
    "eclf = eclf.fit(X_train, y_train)\n",
    "\n",
    "clf1 = clf1.fit(X_train, y_train)\n",
    "clf2 = clf2.fit(X_train, y_train)\n",
    "clf3 = clf3.fit(X_train, y_train)\n",
    "\n",
    "models = {'lr':clf1, \n",
    "          'rf':clf2, \n",
    "          'gnb':clf3, \n",
    "          'ensemble':eclf}\n",
    "\n",
    "# Ensemble Classifier does not have feature importance enabled by default\n",
    "f, axes = plt.subplots(2, 2, figsize = (26, 18))\n",
    "\n",
    "ax_dict = {\n",
    "    'lr':axes[0][0],\n",
    "    'rf':axes[1][0],\n",
    "    'gnb':axes[0][1],\n",
    "    'ensemble':axes[1][1]\n",
    "}\n",
    "\n",
    "interpreter = Interpretation(X_test, feature_names=data.feature_names)\n",
    "\n",
    "for model_key in models:\n",
    "    pyint_model = InMemoryModel(models[model_key].predict_proba, examples=X_test)\n",
    "    ax = ax_dict[model_key]\n",
    "    interpreter.feature_importance.plot_feature_importance(pyint_model, ascending=True, ax=ax)\n",
    "    ax.set_title(model_key)"
   ]
  },
  {
   "cell_type": "code",
   "execution_count": null,
   "metadata": {},
   "outputs": [],
   "source": [
    "from skater.core.explanations import Interpretation\n",
    "from skater.model import InMemoryModel\n",
    "\n",
    "for model in models:\n",
    "    n, c = divide_features(model.X_test)\n",
    "    fts = get_all_features(model.model, n, c)\n",
    "    # print(fts)\n",
    "    # interpreter = Interpretation(model.X, feature_names=(n+c))\n",
    "    interpreter = Interpretation(training_data=model.X_test, training_labels=model.y_test, feature_names=list(n+c))\n",
    "    im_model = InMemoryModel(model.model.predict_proba, examples=model.X_test, target_names=['$50K or less', 'More than $50K'])\n",
    "    # interpreter.feature_importance.plot_feature_importance(pyint_model, ascending=True)\n",
    "    plots = interpreter.feature_importance.plot_feature_importance(im_model, ascending=False)"
   ]
  },
  {
   "cell_type": "code",
   "execution_count": null,
   "metadata": {},
   "outputs": [
    {
     "name": "stdout",
     "output_type": "stream",
     "text": [
      "Classes [0 1]\n",
      "F1 for gb: 0.9517241379310345\n",
      "F1 for mlp: 0.9305555555555556\n",
      "F1 for knn: 0.9090909090909091\n",
      "F1 for reg: 0.9090909090909091\n"
     ]
    },
    {
     "name": "stderr",
     "output_type": "stream",
     "text": [
      "2020-04-28 18:32:22,092 - skater.core.explanations - WARNING - Progress bars slow down runs by 10-20%. For slightly \n",
      "faster runs, do progress_bar=False\n"
     ]
    }
   ],
   "source": [
    "%matplotlib inline\n",
    "import warnings\n",
    "warnings.filterwarnings('ignore')\n",
    "import matplotlib.pyplot as plt\n",
    "plt.style.use('ggplot')\n",
    "# Reference for customizing plots : http://matplotlib.org/users/customizing.html\n",
    "# print(plt.style.available)\n",
    "from sklearn.metrics import f1_score\n",
    "\n",
    "from sklearn.ensemble import GradientBoostingClassifier\n",
    "from sklearn.neural_network import MLPClassifier\n",
    "from sklearn.neighbors import KNeighborsClassifier\n",
    "from sklearn.linear_model import LogisticRegression\n",
    "import numpy as np\n",
    "from sklearn.datasets import load_breast_cancer\n",
    "from sklearn.model_selection import train_test_split\n",
    "\n",
    "\n",
    "data = load_breast_cancer()\n",
    "X = data.data\n",
    "y = data.target\n",
    "X_train, X_test, y_train, y_test = train_test_split(X, y, test_size = .2)\n",
    "print(\"Classes {}\".format(np.unique(y)))\n",
    "\n",
    "models = {'gb':GradientBoostingClassifier(), \n",
    "          'mlp':MLPClassifier(), \n",
    "          'knn':KNeighborsClassifier(), \n",
    "          'reg':LogisticRegression()}\n",
    "\n",
    "for model_key in models:\n",
    "    model = models[model_key]\n",
    "    model.fit(X_train, y_train)\n",
    "    preds = model.predict(X_test)\n",
    "    f1 = f1_score(y_test, preds)\n",
    "    print(\"F1 for {0}: {1}\".format(model_key, f1))\n",
    "    \n",
    "from skater.core.explanations import Interpretation\n",
    "from skater.model import InMemoryModel\n",
    "\n",
    "interpreter = Interpretation(X_test, feature_names=data.feature_names)\n",
    "model = InMemoryModel(models['knn'].predict_proba, examples=X_train)\n",
    "plots = interpreter.feature_importance.plot_feature_importance(model, ascending = False, progress_bar=False)"
   ]
  },
  {
   "cell_type": "markdown",
   "metadata": {},
   "source": [
    "Interpret model globally with eli5."
   ]
  },
  {
   "cell_type": "code",
   "execution_count": null,
   "metadata": {},
   "outputs": [],
   "source": [
    "\"\"\"\n",
    "generate_global_interpretation_grid(models)\n",
    "for model in models:\n",
    "    num_features, cat_features = divide_features(model.X)\n",
    "    log.info(\"Global explanation of {}.\".format(model.name))\n",
    "    display(interpret_model(model.model, num_features, cat_features))\n",
    "\"\"\""
   ]
  },
  {
   "cell_type": "markdown",
   "metadata": {},
   "source": [
    "Interpret a single example locally with LIME."
   ]
  },
  {
   "cell_type": "code",
   "execution_count": null,
   "metadata": {},
   "outputs": [],
   "source": [
    "\"\"\"\n",
    "for i in range(3):\n",
    "    rand = random.randrange(100)\n",
    "    for model in models:\n",
    "        log.info(\"Local explanation for {}.\".format(model.name))\n",
    "        explanation = explain_single_instance(model.model, model.X, model.y, rand)\n",
    "        explanation.show_in_notebook(show_table=True, show_all=True)\n",
    "\"\"\""
   ]
  },
  {
   "cell_type": "code",
   "execution_count": null,
   "metadata": {},
   "outputs": [],
   "source": []
  },
  {
   "cell_type": "code",
   "execution_count": null,
   "metadata": {
    "scrolled": true
   },
   "outputs": [],
   "source": []
  },
  {
   "cell_type": "markdown",
   "metadata": {},
   "source": [
    "..."
   ]
  }
 ],
 "metadata": {
  "kernelspec": {
   "display_name": "Python 3",
   "language": "python",
   "name": "python3"
  },
  "language_info": {
   "codemirror_mode": {
    "name": "ipython",
    "version": 3
   },
   "file_extension": ".py",
   "mimetype": "text/x-python",
   "name": "python",
   "nbconvert_exporter": "python",
   "pygments_lexer": "ipython3",
   "version": "3.7.4"
  }
 },
 "nbformat": 4,
 "nbformat_minor": 2
}
